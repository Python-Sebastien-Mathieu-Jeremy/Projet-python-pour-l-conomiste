{
 "cells": [
  {
   "cell_type": "markdown",
   "id": "3ddf9292",
   "metadata": {},
   "source": [
    "# Peut-on déduire des commentaires l'avis des consommateurs ?"
   ]
  },
  {
   "cell_type": "markdown",
   "id": "097c0eda",
   "metadata": {},
   "source": [
    "## Step 1 : import librairies and load data\n"
   ]
  },
  {
   "cell_type": "code",
   "execution_count": 96,
   "id": "d5f2fb03",
   "metadata": {},
   "outputs": [
    {
     "name": "stderr",
     "output_type": "stream",
     "text": [
      "[nltk_data] Downloading package wordnet to\n",
      "[nltk_data]     /Users/jeremyfouliard/nltk_data...\n",
      "[nltk_data]   Package wordnet is already up-to-date!\n",
      "[nltk_data] Downloading package stopwords to\n",
      "[nltk_data]     /Users/jeremyfouliard/nltk_data...\n",
      "[nltk_data]   Package stopwords is already up-to-date!\n"
     ]
    }
   ],
   "source": [
    "import pandas as pd\n",
    "import numpy as np\n",
    "import matplotlib as mpl\n",
    "import matplotlib.pyplot as plt\n",
    "%matplotlib inline\n",
    "import seaborn as sns\n",
    "import scipy.stats as st\n",
    "from sklearn import ensemble, tree, linear_model\n",
    "from time import time\n",
    "import spacy\n",
    "import nltk\n",
    "import re\n",
    "from nltk.corpus import stopwords\n",
    "import unicodedata\n",
    "import string\n",
    "#tokenize text with Tfidf\n",
    "from sklearn.feature_extraction.text import TfidfVectorizer\n",
    "from nltk.stem.snowball import SnowballStemmer\n",
    "from sklearn.feature_extraction.text import CountVectorizer\n",
    "import string\n",
    "string.punctuation\n",
    "import nltk\n",
    "from wordcloud import WordCloud\n",
    "from nltk.stem import WordNetLemmatizer\n",
    "nltk.download('wordnet')\n",
    "nltk.download(\"stopwords\")\n",
    "from sklearn import preprocessing\n",
    "from sklearn.feature_extraction.text import CountVectorizer\n",
    "from sklearn.ensemble import RandomForestClassifier\n",
    "from sklearn.naive_bayes import GaussianNB\n",
    "from sklearn.ensemble import AdaBoostClassifier\n",
    "from sklearn.linear_model import LogisticRegression\n",
    "from sklearn.tree import DecisionTreeClassifier\n",
    "from sklearn.model_selection import train_test_split\n",
    "from sklearn import model_selection, preprocessing, linear_model, naive_bayes, metrics, svm\n",
    "from sklearn.metrics import *\n",
    "from sklearn.svm import LinearSVC\n",
    "from nltk.classify.scikitlearn import SklearnClassifier\n",
    "from sklearn.svm import SVC, LinearSVC, NuSVC\n"
   ]
  },
  {
   "cell_type": "code",
   "execution_count": 158,
   "id": "f7315e20",
   "metadata": {},
   "outputs": [],
   "source": [
    "data = pd.read_csv(\"export2.csv\")\n",
    "# we only keep the column \"reviews\" and \"recommended\" \n",
    "df = data[['review','recommended']].copy()"
   ]
  },
  {
   "cell_type": "markdown",
   "id": "aeb62376",
   "metadata": {},
   "source": [
    "# Step 2 : cleaning data"
   ]
  },
  {
   "cell_type": "markdown",
   "id": "e5ac4472",
   "metadata": {},
   "source": [
    "# Step 2.1 : explanatory analysis"
   ]
  },
  {
   "cell_type": "code",
   "execution_count": 159,
   "id": "27a14d35",
   "metadata": {},
   "outputs": [
    {
     "data": {
      "text/html": [
       "<div>\n",
       "<style scoped>\n",
       "    .dataframe tbody tr th:only-of-type {\n",
       "        vertical-align: middle;\n",
       "    }\n",
       "\n",
       "    .dataframe tbody tr th {\n",
       "        vertical-align: top;\n",
       "    }\n",
       "\n",
       "    .dataframe thead th {\n",
       "        text-align: right;\n",
       "    }\n",
       "</style>\n",
       "<table border=\"1\" class=\"dataframe\">\n",
       "  <thead>\n",
       "    <tr style=\"text-align: right;\">\n",
       "      <th></th>\n",
       "      <th>review</th>\n",
       "      <th>recommended</th>\n",
       "    </tr>\n",
       "  </thead>\n",
       "  <tbody>\n",
       "    <tr>\n",
       "      <th>count</th>\n",
       "      <td>151214</td>\n",
       "      <td>151460</td>\n",
       "    </tr>\n",
       "    <tr>\n",
       "      <th>unique</th>\n",
       "      <td>124474</td>\n",
       "      <td>2</td>\n",
       "    </tr>\n",
       "    <tr>\n",
       "      <th>top</th>\n",
       "      <td>10/10</td>\n",
       "      <td>True</td>\n",
       "    </tr>\n",
       "    <tr>\n",
       "      <th>freq</th>\n",
       "      <td>886</td>\n",
       "      <td>147933</td>\n",
       "    </tr>\n",
       "  </tbody>\n",
       "</table>\n",
       "</div>"
      ],
      "text/plain": [
       "        review recommended\n",
       "count   151214      151460\n",
       "unique  124474           2\n",
       "top      10/10        True\n",
       "freq       886      147933"
      ]
     },
     "execution_count": 159,
     "metadata": {},
     "output_type": "execute_result"
    }
   ],
   "source": [
    "df.describe()"
   ]
  },
  {
   "cell_type": "code",
   "execution_count": 160,
   "id": "c4b3d4c7",
   "metadata": {},
   "outputs": [],
   "source": [
    "df.dtypes\n",
    "pd.options.display.max_colwidth = 300"
   ]
  },
  {
   "cell_type": "code",
   "execution_count": 161,
   "id": "40d97c8c",
   "metadata": {},
   "outputs": [
    {
     "data": {
      "text/plain": [
       "<AxesSubplot:xlabel='recommended', ylabel='count'>"
      ]
     },
     "execution_count": 161,
     "metadata": {},
     "output_type": "execute_result"
    },
    {
     "data": {
      "image/png": "[encoded data removed]",
      "text/plain": [
       "<Figure size 432x288 with 1 Axes>"
      ]
     },
     "metadata": {
      "needs_background": "light"
     },
     "output_type": "display_data"
    }
   ],
   "source": [
    "#checking the number of true and false in the recommended column\n",
    "sns.countplot(x='recommended',data=df)"
   ]
  },
  {
   "cell_type": "code",
   "execution_count": 162,
   "id": "bade6720",
   "metadata": {},
   "outputs": [
    {
     "name": "stderr",
     "output_type": "stream",
     "text": [
      "/opt/anaconda3/lib/python3.8/site-packages/seaborn/distributions.py:2557: FutureWarning: `distplot` is a deprecated function and will be removed in a future version. Please adapt your code to use either `displot` (a figure-level function with similar flexibility) or `histplot` (an axes-level function for histograms).\n",
      "  warnings.warn(msg, FutureWarning)\n"
     ]
    },
    {
     "data": {
      "text/plain": [
       "<AxesSubplot:xlabel='len', ylabel='Density'>"
      ]
     },
     "execution_count": 162,
     "metadata": {},
     "output_type": "execute_result"
    },
    {
     "data": {
      "image/png": "[encoded data removed]",
      "text/plain": [
       "<Figure size 432x288 with 1 Axes>"
      ]
     },
     "metadata": {
      "needs_background": "light"
     },
     "output_type": "display_data"
    }
   ],
   "source": [
    "#checking the density of length of reviews\n",
    "df['len']=df['review'].str.len()\n",
    "sns.distplot(df['len'])"
   ]
  },
  {
   "cell_type": "code",
   "execution_count": 163,
   "id": "60806d37",
   "metadata": {},
   "outputs": [
    {
     "data": {
      "text/plain": [
       "count    151214.000000\n",
       "mean        209.797810\n",
       "std         529.429039\n",
       "min           1.000000\n",
       "25%          19.000000\n",
       "50%          54.000000\n",
       "75%         172.000000\n",
       "max        8000.000000\n",
       "Name: len, dtype: float64"
      ]
     },
     "execution_count": 163,
     "metadata": {},
     "output_type": "execute_result"
    }
   ],
   "source": [
    "#analyzing the length of reviews\n",
    "df['len'].describe()"
   ]
  },
  {
   "cell_type": "code",
   "execution_count": 164,
   "id": "1af7c3bf",
   "metadata": {},
   "outputs": [
    {
     "data": {
      "image/png": "[encoded data removed]",
      "text/plain": [
       "<Figure size 432x288 with 2 Axes>"
      ]
     },
     "metadata": {
      "needs_background": "light"
     },
     "output_type": "display_data"
    }
   ],
   "source": [
    "#checking for correlations between the length of the review and the target column\n",
    "correl = df.corr()\n",
    "hmap = sns.heatmap(correl, annot = True)"
   ]
  },
  {
   "cell_type": "code",
   "execution_count": 165,
   "id": "17f85f17",
   "metadata": {},
   "outputs": [
    {
     "data": {
      "text/plain": [
       "review         0\n",
       "recommended    0\n",
       "len            0\n",
       "dtype: int64"
      ]
     },
     "execution_count": 165,
     "metadata": {},
     "output_type": "execute_result"
    }
   ],
   "source": [
    "#looking for null values\n",
    "df = df.dropna()\n",
    "df.isnull().sum()"
   ]
  },
  {
   "cell_type": "code",
   "execution_count": 166,
   "id": "a4268e45",
   "metadata": {},
   "outputs": [
    {
     "name": "stderr",
     "output_type": "stream",
     "text": [
      "/opt/anaconda3/lib/python3.8/site-packages/pandas/core/strings/accessor.py:101: UserWarning: This pattern has match groups. To actually get the groups, use str.extract.\n",
      "  return func(self, *args, **kwargs)\n"
     ]
    },
    {
     "data": {
      "text/html": [
       "<div>\n",
       "<style scoped>\n",
       "    .dataframe tbody tr th:only-of-type {\n",
       "        vertical-align: middle;\n",
       "    }\n",
       "\n",
       "    .dataframe tbody tr th {\n",
       "        vertical-align: top;\n",
       "    }\n",
       "\n",
       "    .dataframe thead th {\n",
       "        text-align: right;\n",
       "    }\n",
       "</style>\n",
       "<table border=\"1\" class=\"dataframe\">\n",
       "  <thead>\n",
       "    <tr style=\"text-align: right;\">\n",
       "      <th></th>\n",
       "      <th>review</th>\n",
       "      <th>len</th>\n",
       "    </tr>\n",
       "    <tr>\n",
       "      <th>recommended</th>\n",
       "      <th></th>\n",
       "      <th></th>\n",
       "    </tr>\n",
       "  </thead>\n",
       "  <tbody>\n",
       "    <tr>\n",
       "      <th>False</th>\n",
       "      <td>51</td>\n",
       "      <td>51</td>\n",
       "    </tr>\n",
       "    <tr>\n",
       "      <th>True</th>\n",
       "      <td>4880</td>\n",
       "      <td>4880</td>\n",
       "    </tr>\n",
       "  </tbody>\n",
       "</table>\n",
       "</div>"
      ],
      "text/plain": [
       "             review   len\n",
       "recommended              \n",
       "False            51    51\n",
       "True           4880  4880"
      ]
     },
     "execution_count": 166,
     "metadata": {},
     "output_type": "execute_result"
    },
    {
     "data": {
      "image/png": "[encoded data removed]",
      "text/plain": [
       "<Figure size 432x288 with 1 Axes>"
      ]
     },
     "metadata": {
      "needs_background": "light"
     },
     "output_type": "display_data"
    }
   ],
   "source": [
    "#positive sentiment\n",
    "positive = df[df['review'].str.contains(\"(:\\s?D|:-D|x-?D|X-?D|;\\s?\\)|;-\\)|\\(\\s?;|\\(-;|:\\s?\\)|:-\\)|\\(\\s?:|\\(-:|:\\’\\)|<3|:\\*)\")].copy()\n",
    "sns.countplot(x='recommended',data=positive)\n",
    "positive.groupby('recommended').count()"
   ]
  },
  {
   "cell_type": "code",
   "execution_count": 167,
   "id": "41f1c070",
   "metadata": {},
   "outputs": [
    {
     "name": "stderr",
     "output_type": "stream",
     "text": [
      "/opt/anaconda3/lib/python3.8/site-packages/pandas/core/strings/accessor.py:101: UserWarning: This pattern has match groups. To actually get the groups, use str.extract.\n",
      "  return func(self, *args, **kwargs)\n"
     ]
    },
    {
     "data": {
      "text/html": [
       "<div>\n",
       "<style scoped>\n",
       "    .dataframe tbody tr th:only-of-type {\n",
       "        vertical-align: middle;\n",
       "    }\n",
       "\n",
       "    .dataframe tbody tr th {\n",
       "        vertical-align: top;\n",
       "    }\n",
       "\n",
       "    .dataframe thead th {\n",
       "        text-align: right;\n",
       "    }\n",
       "</style>\n",
       "<table border=\"1\" class=\"dataframe\">\n",
       "  <thead>\n",
       "    <tr style=\"text-align: right;\">\n",
       "      <th></th>\n",
       "      <th>review</th>\n",
       "      <th>len</th>\n",
       "    </tr>\n",
       "    <tr>\n",
       "      <th>recommended</th>\n",
       "      <th></th>\n",
       "      <th></th>\n",
       "    </tr>\n",
       "  </thead>\n",
       "  <tbody>\n",
       "    <tr>\n",
       "      <th>False</th>\n",
       "      <td>34</td>\n",
       "      <td>34</td>\n",
       "    </tr>\n",
       "    <tr>\n",
       "      <th>True</th>\n",
       "      <td>461</td>\n",
       "      <td>461</td>\n",
       "    </tr>\n",
       "  </tbody>\n",
       "</table>\n",
       "</div>"
      ],
      "text/plain": [
       "             review  len\n",
       "recommended             \n",
       "False            34   34\n",
       "True            461  461"
      ]
     },
     "execution_count": 167,
     "metadata": {},
     "output_type": "execute_result"
    },
    {
     "data": {
      "image/png": "[encoded data removed]",
      "text/plain": [
       "<Figure size 432x288 with 1 Axes>"
      ]
     },
     "metadata": {
      "needs_background": "light"
     },
     "output_type": "display_data"
    }
   ],
   "source": [
    "#negative sentiments\n",
    "negative = df[df['review'].str.contains(\"(:\\s?\\(|:-\\(|\\)\\s?:|\\)-:|(:,\\(|:\\’\\())\")].copy()\n",
    "sns.countplot(x='recommended',data=negative)\n",
    "negative.groupby('recommended').count()"
   ]
  },
  {
   "cell_type": "code",
   "execution_count": 168,
   "id": "c8211698",
   "metadata": {},
   "outputs": [
    {
     "data": {
      "text/plain": [
       "review         0\n",
       "recommended    0\n",
       "len            0\n",
       "dtype: int64"
      ]
     },
     "execution_count": 168,
     "metadata": {},
     "output_type": "execute_result"
    }
   ],
   "source": [
    "#looking for null values\n",
    "df = df.dropna()\n",
    "df.isnull().sum()"
   ]
  },
  {
   "cell_type": "markdown",
   "id": "40828b73",
   "metadata": {},
   "source": [
    "## Step 2.2 : cleaning the database"
   ]
  },
  {
   "cell_type": "code",
   "execution_count": 169,
   "id": "2c16e891",
   "metadata": {},
   "outputs": [],
   "source": [
    "#replacing emojis \n",
    "df = df.replace(regex=[\"(:\\s?D|:-D|x-?D|X-?D|;\\s?\\)|;-\\)|\\(\\s?;|\\(-;|:\\s?\\)|:-\\)|\\(\\s?:|\\(-:|:\\’\\)|<3|:\\*)\"], value='good')\n",
    "df = df.replace(regex=[\"(:\\s?\\(|:-\\(|\\)\\s?:|\\)-:|(:,\\(|:\\’\\())\"], value='sad')"
   ]
  },
  {
   "cell_type": "code",
   "execution_count": 170,
   "id": "a5310f63",
   "metadata": {},
   "outputs": [
    {
     "data": {
      "text/html": [
       "<div>\n",
       "<style scoped>\n",
       "    .dataframe tbody tr th:only-of-type {\n",
       "        vertical-align: middle;\n",
       "    }\n",
       "\n",
       "    .dataframe tbody tr th {\n",
       "        vertical-align: top;\n",
       "    }\n",
       "\n",
       "    .dataframe thead th {\n",
       "        text-align: right;\n",
       "    }\n",
       "</style>\n",
       "<table border=\"1\" class=\"dataframe\">\n",
       "  <thead>\n",
       "    <tr style=\"text-align: right;\">\n",
       "      <th></th>\n",
       "      <th>review</th>\n",
       "      <th>recommended</th>\n",
       "      <th>len</th>\n",
       "    </tr>\n",
       "  </thead>\n",
       "  <tbody>\n",
       "    <tr>\n",
       "      <th>107</th>\n",
       "      <td>[b] Alright, I am aware of how many good things have been said about the game, another positive review might be pointless. I am here just to point out some things that are rarely said and to let off steam from playing this game. I am going to divide the review in parts that I wanted to point out...</td>\n",
       "      <td>True</td>\n",
       "      <td>5888.0</td>\n",
       "    </tr>\n",
       "    <tr>\n",
       "      <th>763</th>\n",
       "      <td>These mods are a MUST get:Fast travel from anywhere: https://www.nexusmods.com/witcher3/mods/324/ 9000 Weight limit: https://www.nexusmods.com/witcher3/mods/3Indestructible items: https://www.nexusmods.com/witcher3/mods/342 No fall damage: https://www.nexusmods.com/witcher3/mods/352</td>\n",
       "      <td>True</td>\n",
       "      <td>283.0</td>\n",
       "    </tr>\n",
       "    <tr>\n",
       "      <th>1190</th>\n",
       "      <td>Quick disclaimer. I have more bad to say about this game than good, buuuuut despite all the criticism it is a great game and a must buy IF it is on sale. DO NOT pay full price for this. The idea that in 2015 people paid 60 dollars for this is truly upsetting. Pros- Interesting world based on the...</td>\n",
       "      <td>True</td>\n",
       "      <td>3041.0</td>\n",
       "    </tr>\n",
       "    <tr>\n",
       "      <th>1250</th>\n",
       "      <td>https://www.youtube.com/watch?v=8ztofZ_bdWgA $14.99 Masterpiece!</td>\n",
       "      <td>True</td>\n",
       "      <td>64.0</td>\n",
       "    </tr>\n",
       "    <tr>\n",
       "      <th>1335</th>\n",
       "      <td>How one of my friend have said: It is easily the best game of the decade - and I agree! I have never been a fan of RPG games but it change after playing this masterpiece. If you combine story, gameplay, graphics / visuals / effects, characters (NPCs), options you can choose from, more endings - ...</td>\n",
       "      <td>True</td>\n",
       "      <td>801.0</td>\n",
       "    </tr>\n",
       "    <tr>\n",
       "      <th>...</th>\n",
       "      <td>...</td>\n",
       "      <td>...</td>\n",
       "      <td>...</td>\n",
       "    </tr>\n",
       "    <tr>\n",
       "      <th>151047</th>\n",
       "      <td>This is to be edited upon further playing.Pros so far:- Story is really good so far- Facial expressions are good- Gwent can be fun, but holy shit do NPCs have OP decks.- Open world is nice (Though I find it poorly done in some cases. I think I like Skyrim more overall, in terms of open worldness...</td>\n",
       "      <td>True</td>\n",
       "      <td>1937.0</td>\n",
       "    </tr>\n",
       "    <tr>\n",
       "      <th>151080</th>\n",
       "      <td>Thumbs up goodhttps://youtu.be/LEZkYolq5SI</td>\n",
       "      <td>True</td>\n",
       "      <td>40.0</td>\n",
       "    </tr>\n",
       "    <tr>\n",
       "      <th>151184</th>\n",
       "      <td>AMD Athlon x4 750k  3.40 GHZXFX Radeon HD 77008GB RAM Despite not being able to maintain atleast 10fps on low settings with this setup, i can honestly give this game of the year, my machine however cannot as my graphics card combusted        8/10 Should have read min spec and got for ps4 instead...</td>\n",
       "      <td>True</td>\n",
       "      <td>358.0</td>\n",
       "    </tr>\n",
       "    <tr>\n",
       "      <th>151436</th>\n",
       "      <td>Horrible optimization, devs mislead players, created hype by lying - showing awesome graphics 2 years ago and then what we got now? Downgraded ugly game which need beast gpu to even run at 60fps/1080p.I can barely play it on lowest at 40fps, while Gta v runs at 60fps with rare drops to 50-55.Als...</td>\n",
       "      <td>False</td>\n",
       "      <td>2784.0</td>\n",
       "    </tr>\n",
       "    <tr>\n",
       "      <th>151453</th>\n",
       "      <td>https://www.youtube.com/watch?v=UIS5WHx4goodk  Massive downgradeBlurry textures, disguting foliage, 30 fps cutscenes and menu, this is just a pathetic console porton top of that it runs like garbage on my 970you done fucked up CDPR</td>\n",
       "      <td>False</td>\n",
       "      <td>229.0</td>\n",
       "    </tr>\n",
       "  </tbody>\n",
       "</table>\n",
       "<p>354 rows × 3 columns</p>\n",
       "</div>"
      ],
      "text/plain": [
       "                                                                                                                                                                                                                                                                                                             review  \\\n",
       "107     [b] Alright, I am aware of how many good things have been said about the game, another positive review might be pointless. I am here just to point out some things that are rarely said and to let off steam from playing this game. I am going to divide the review in parts that I wanted to point out...   \n",
       "763                     These mods are a MUST get:Fast travel from anywhere: https://www.nexusmods.com/witcher3/mods/324/ 9000 Weight limit: https://www.nexusmods.com/witcher3/mods/3Indestructible items: https://www.nexusmods.com/witcher3/mods/342 No fall damage: https://www.nexusmods.com/witcher3/mods/352   \n",
       "1190    Quick disclaimer. I have more bad to say about this game than good, buuuuut despite all the criticism it is a great game and a must buy IF it is on sale. DO NOT pay full price for this. The idea that in 2015 people paid 60 dollars for this is truly upsetting. Pros- Interesting world based on the...   \n",
       "1250                                                                                                                                                                                                                                               https://www.youtube.com/watch?v=8ztofZ_bdWgA $14.99 Masterpiece!   \n",
       "1335    How one of my friend have said: It is easily the best game of the decade - and I agree! I have never been a fan of RPG games but it change after playing this masterpiece. If you combine story, gameplay, graphics / visuals / effects, characters (NPCs), options you can choose from, more endings - ...   \n",
       "...                                                                                                                                                                                                                                                                                                             ...   \n",
       "151047  This is to be edited upon further playing.Pros so far:- Story is really good so far- Facial expressions are good- Gwent can be fun, but holy shit do NPCs have OP decks.- Open world is nice (Though I find it poorly done in some cases. I think I like Skyrim more overall, in terms of open worldness...   \n",
       "151080                                                                                                                                                                                                                                                                   Thumbs up goodhttps://youtu.be/LEZkYolq5SI   \n",
       "151184  AMD Athlon x4 750k  3.40 GHZXFX Radeon HD 77008GB RAM Despite not being able to maintain atleast 10fps on low settings with this setup, i can honestly give this game of the year, my machine however cannot as my graphics card combusted        8/10 Should have read min spec and got for ps4 instead...   \n",
       "151436  Horrible optimization, devs mislead players, created hype by lying - showing awesome graphics 2 years ago and then what we got now? Downgraded ugly game which need beast gpu to even run at 60fps/1080p.I can barely play it on lowest at 40fps, while Gta v runs at 60fps with rare drops to 50-55.Als...   \n",
       "151453                                                                      https://www.youtube.com/watch?v=UIS5WHx4goodk  Massive downgradeBlurry textures, disguting foliage, 30 fps cutscenes and menu, this is just a pathetic console porton top of that it runs like garbage on my 970you done fucked up CDPR   \n",
       "\n",
       "        recommended     len  \n",
       "107            True  5888.0  \n",
       "763            True   283.0  \n",
       "1190           True  3041.0  \n",
       "1250           True    64.0  \n",
       "1335           True   801.0  \n",
       "...             ...     ...  \n",
       "151047         True  1937.0  \n",
       "151080         True    40.0  \n",
       "151184         True   358.0  \n",
       "151436        False  2784.0  \n",
       "151453        False   229.0  \n",
       "\n",
       "[354 rows x 3 columns]"
      ]
     },
     "execution_count": 170,
     "metadata": {},
     "output_type": "execute_result"
    }
   ],
   "source": [
    "#showing website link\n",
    "df[df['review'].str.contains(\"http\")]"
   ]
  },
  {
   "cell_type": "code",
   "execution_count": 171,
   "id": "815469cb",
   "metadata": {},
   "outputs": [],
   "source": [
    "#removing website link\n",
    "def removeurl(text):\n",
    "    urlfree=re.sub(r'http\\S+', '', text)\n",
    "    return urlfree\n",
    "\n",
    "#storing the puntuation free text\n",
    "df['review'] = df['review'].apply(lambda x:removeurl(x))"
   ]
  },
  {
   "cell_type": "code",
   "execution_count": 172,
   "id": "b586c7cd",
   "metadata": {},
   "outputs": [
    {
     "data": {
      "text/html": [
       "<div>\n",
       "<style scoped>\n",
       "    .dataframe tbody tr th:only-of-type {\n",
       "        vertical-align: middle;\n",
       "    }\n",
       "\n",
       "    .dataframe tbody tr th {\n",
       "        vertical-align: top;\n",
       "    }\n",
       "\n",
       "    .dataframe thead th {\n",
       "        text-align: right;\n",
       "    }\n",
       "</style>\n",
       "<table border=\"1\" class=\"dataframe\">\n",
       "  <thead>\n",
       "    <tr style=\"text-align: right;\">\n",
       "      <th></th>\n",
       "      <th>review</th>\n",
       "      <th>recommended</th>\n",
       "      <th>len</th>\n",
       "    </tr>\n",
       "  </thead>\n",
       "  <tbody>\n",
       "    <tr>\n",
       "      <th>72</th>\n",
       "      <td>---{Graphics}---☐ You forget what reality is☑ Beautiful☐ Good☐ Decent☐ Bad☐ Don‘t look too long at it☐ Paint.exe---{Gameplay}---☐ Very good☐ Good☑ Fun but repetitive☐ It‘s just gameplay☐ Mehh☐ Starring at walls is better☐ Just don‘t---{Audio}---☐ Eargasm☐ Very good☑ Good☐ Not too bad☐ Bad☐ Earra...</td>\n",
       "      <td>True</td>\n",
       "      <td>1307.0</td>\n",
       "    </tr>\n",
       "    <tr>\n",
       "      <th>107</th>\n",
       "      <td>[b] Alright, I am aware of how many good things have been said about the game, another positive review might be pointless. I am here just to point out some things that are rarely said and to let off steam from playing this game. I am going to divide the review in parts that I wanted to point out...</td>\n",
       "      <td>True</td>\n",
       "      <td>5888.0</td>\n",
       "    </tr>\n",
       "    <tr>\n",
       "      <th>170</th>\n",
       "      <td>---{Graphics}---☐ You forget what reality is☑ Beautiful [Only beautiful beacuse in the firsts trailers the game look better]☐ Good☐ Decent☐ Bad☐ Don‘t look too long at it☐ MS-DOS---{Gameplay}---☑ Very good [Beautiful]☐ Good☐ It‘s just gameplay☐ Mehh☐ Watch paint dry instead☐ Just don't---{Audio}...</td>\n",
       "      <td>True</td>\n",
       "      <td>1214.0</td>\n",
       "    </tr>\n",
       "    <tr>\n",
       "      <th>233</th>\n",
       "      <td>After 107 hours of joy, surprise, fear, sadness, and more (also a little bit of AFK), I finally finished this masterpiece (base game only, yet). There is absolutely not a single reason not to buy this game. BEST GAME EVER.---{Graphics}---☐ You forget what reality is☑ Sexy☐ Good☐ Decent☐ Bad☐ Don...</td>\n",
       "      <td>True</td>\n",
       "      <td>1432.0</td>\n",
       "    </tr>\n",
       "    <tr>\n",
       "      <th>279</th>\n",
       "      <td>Yes o yes one of my favorite games and is heartbreaking with the story. the graphics are pretty good and GREAT for a 2015 game. this game has the best story of any game i have played and has a good combat system. the map is HUGE and when i say huge i mean prob as big as GTA 5 map huge OR...</td>\n",
       "      <td>True</td>\n",
       "      <td>598.0</td>\n",
       "    </tr>\n",
       "    <tr>\n",
       "      <th>...</th>\n",
       "      <td>...</td>\n",
       "      <td>...</td>\n",
       "      <td>...</td>\n",
       "    </tr>\n",
       "    <tr>\n",
       "      <th>151370</th>\n",
       "      <td>Ok....first review how the wild hunt is going on:After glorious 45 minutes being around Geralt it literally blew up the third HD-partion which we just set up for meetings with the Witcher himself (damn, he is such a VIP here *lol*) wisely knowing that this happened a couple of years ago when we ...</td>\n",
       "      <td>True</td>\n",
       "      <td>953.0</td>\n",
       "    </tr>\n",
       "    <tr>\n",
       "      <th>151378</th>\n",
       "      <td>cant really enjoy it, because even with everything on ultra, it partly looks like a 2012 console game.well done, cd projekt.i guess its just another hyped game killed by ps4 / xbox underdevelopment.[h1]if you charge the full price for a pc release, make it at least look like a pc release and not...</td>\n",
       "      <td>False</td>\n",
       "      <td>414.0</td>\n",
       "    </tr>\n",
       "    <tr>\n",
       "      <th>151409</th>\n",
       "      <td>[h1]Is it May 19th yet?[/h1][b]YES, IT FINALLY IS![/b]Review:At last the long awaited sequel from 2011's Witcher 2 gets on PC and let me tell you my impressions so far.Developed by CD Prokekt RED, The Witcher 3 is a third person open world RPG set in the land of Temeria.You take control of Geral...</td>\n",
       "      <td>True</td>\n",
       "      <td>2548.0</td>\n",
       "    </tr>\n",
       "    <tr>\n",
       "      <th>151436</th>\n",
       "      <td>Horrible optimization, devs mislead players, created hype by lying - showing awesome graphics 2 years ago and then what we got now? Downgraded ugly game which need beast gpu to even run at 60fps/1080p.I can barely play it on lowest at 40fps, while Gta v runs at 60fps with rare drops to 50-55.Als...</td>\n",
       "      <td>False</td>\n",
       "      <td>2784.0</td>\n",
       "    </tr>\n",
       "    <tr>\n",
       "      <th>151442</th>\n",
       "      <td>[b] The Witcher 3 ... [/b]... ist ein super Spiel geworden und es wird wohl für lange Zeit meine NR. 1 bleiben!Einfach TOP</td>\n",
       "      <td>True</td>\n",
       "      <td>122.0</td>\n",
       "    </tr>\n",
       "  </tbody>\n",
       "</table>\n",
       "<p>2195 rows × 3 columns</p>\n",
       "</div>"
      ],
      "text/plain": [
       "                                                                                                                                                                                                                                                                                                             review  \\\n",
       "72      ---{Graphics}---☐ You forget what reality is☑ Beautiful☐ Good☐ Decent☐ Bad☐ Don‘t look too long at it☐ Paint.exe---{Gameplay}---☐ Very good☐ Good☑ Fun but repetitive☐ It‘s just gameplay☐ Mehh☐ Starring at walls is better☐ Just don‘t---{Audio}---☐ Eargasm☐ Very good☑ Good☐ Not too bad☐ Bad☐ Earra...   \n",
       "107     [b] Alright, I am aware of how many good things have been said about the game, another positive review might be pointless. I am here just to point out some things that are rarely said and to let off steam from playing this game. I am going to divide the review in parts that I wanted to point out...   \n",
       "170     ---{Graphics}---☐ You forget what reality is☑ Beautiful [Only beautiful beacuse in the firsts trailers the game look better]☐ Good☐ Decent☐ Bad☐ Don‘t look too long at it☐ MS-DOS---{Gameplay}---☑ Very good [Beautiful]☐ Good☐ It‘s just gameplay☐ Mehh☐ Watch paint dry instead☐ Just don't---{Audio}...   \n",
       "233     After 107 hours of joy, surprise, fear, sadness, and more (also a little bit of AFK), I finally finished this masterpiece (base game only, yet). There is absolutely not a single reason not to buy this game. BEST GAME EVER.---{Graphics}---☐ You forget what reality is☑ Sexy☐ Good☐ Decent☐ Bad☐ Don...   \n",
       "279             Yes o yes one of my favorite games and is heartbreaking with the story. the graphics are pretty good and GREAT for a 2015 game. this game has the best story of any game i have played and has a good combat system. the map is HUGE and when i say huge i mean prob as big as GTA 5 map huge OR...   \n",
       "...                                                                                                                                                                                                                                                                                                             ...   \n",
       "151370  Ok....first review how the wild hunt is going on:After glorious 45 minutes being around Geralt it literally blew up the third HD-partion which we just set up for meetings with the Witcher himself (damn, he is such a VIP here *lol*) wisely knowing that this happened a couple of years ago when we ...   \n",
       "151378  cant really enjoy it, because even with everything on ultra, it partly looks like a 2012 console game.well done, cd projekt.i guess its just another hyped game killed by ps4 / xbox underdevelopment.[h1]if you charge the full price for a pc release, make it at least look like a pc release and not...   \n",
       "151409  [h1]Is it May 19th yet?[/h1][b]YES, IT FINALLY IS![/b]Review:At last the long awaited sequel from 2011's Witcher 2 gets on PC and let me tell you my impressions so far.Developed by CD Prokekt RED, The Witcher 3 is a third person open world RPG set in the land of Temeria.You take control of Geral...   \n",
       "151436  Horrible optimization, devs mislead players, created hype by lying - showing awesome graphics 2 years ago and then what we got now? Downgraded ugly game which need beast gpu to even run at 60fps/1080p.I can barely play it on lowest at 40fps, while Gta v runs at 60fps with rare drops to 50-55.Als...   \n",
       "151442                                                                                                                                                                                   [b] The Witcher 3 ... [/b]... ist ein super Spiel geworden und es wird wohl für lange Zeit meine NR. 1 bleiben!Einfach TOP   \n",
       "\n",
       "        recommended     len  \n",
       "72             True  1307.0  \n",
       "107            True  5888.0  \n",
       "170            True  1214.0  \n",
       "233            True  1432.0  \n",
       "279            True   598.0  \n",
       "...             ...     ...  \n",
       "151370         True   953.0  \n",
       "151378        False   414.0  \n",
       "151409         True  2548.0  \n",
       "151436        False  2784.0  \n",
       "151442         True   122.0  \n",
       "\n",
       "[2195 rows x 3 columns]"
      ]
     },
     "execution_count": 172,
     "metadata": {},
     "output_type": "execute_result"
    }
   ],
   "source": [
    "#removing html \n",
    "df[df['review'].str.contains(\"\\[|\\{\")]"
   ]
  },
  {
   "cell_type": "code",
   "execution_count": 173,
   "id": "6a638603",
   "metadata": {},
   "outputs": [],
   "source": [
    "def removehtml(text):\n",
    "    htmlfree=re.sub(r'\\[\\S+\\]|\\-\\S+\\-', '', text)\n",
    "    return htmlfree\n",
    "\n",
    "#storing the html free text\n",
    "df['review'] = df['review'].apply(lambda x:removehtml(x))"
   ]
  },
  {
   "cell_type": "code",
   "execution_count": 174,
   "id": "43e7e4fc",
   "metadata": {},
   "outputs": [
    {
     "data": {
      "text/html": [
       "<div>\n",
       "<style scoped>\n",
       "    .dataframe tbody tr th:only-of-type {\n",
       "        vertical-align: middle;\n",
       "    }\n",
       "\n",
       "    .dataframe tbody tr th {\n",
       "        vertical-align: top;\n",
       "    }\n",
       "\n",
       "    .dataframe thead th {\n",
       "        text-align: right;\n",
       "    }\n",
       "</style>\n",
       "<table border=\"1\" class=\"dataframe\">\n",
       "  <thead>\n",
       "    <tr style=\"text-align: right;\">\n",
       "      <th></th>\n",
       "      <th>review</th>\n",
       "      <th>len</th>\n",
       "    </tr>\n",
       "    <tr>\n",
       "      <th>recommended</th>\n",
       "      <th></th>\n",
       "      <th></th>\n",
       "    </tr>\n",
       "  </thead>\n",
       "  <tbody>\n",
       "    <tr>\n",
       "      <th>True</th>\n",
       "      <td>257</td>\n",
       "      <td>257</td>\n",
       "    </tr>\n",
       "  </tbody>\n",
       "</table>\n",
       "</div>"
      ],
      "text/plain": [
       "             review  len\n",
       "recommended             \n",
       "True            257  257"
      ]
     },
     "execution_count": 174,
     "metadata": {},
     "output_type": "execute_result"
    }
   ],
   "source": [
    "#boxes\n",
    "df[df['review'].str.contains(\"☐|☑\")].groupby(\"recommended\").count()"
   ]
  },
  {
   "cell_type": "code",
   "execution_count": 175,
   "id": "ef6aba59",
   "metadata": {},
   "outputs": [],
   "source": [
    "#removing boxes\n",
    "df = df[df['review'].str.contains(\"☐|☑\")==False]"
   ]
  },
  {
   "cell_type": "code",
   "execution_count": 176,
   "id": "58224dad",
   "metadata": {},
   "outputs": [],
   "source": [
    "#removing short reviews\n",
    "df = df[df['len']>3]"
   ]
  },
  {
   "cell_type": "code",
   "execution_count": 177,
   "id": "94773e80",
   "metadata": {},
   "outputs": [
    {
     "data": {
      "text/plain": [
       "review         0\n",
       "recommended    0\n",
       "len            0\n",
       "dtype: int64"
      ]
     },
     "execution_count": 177,
     "metadata": {},
     "output_type": "execute_result"
    }
   ],
   "source": [
    "#looking for null values\n",
    "df = df.dropna()\n",
    "df.isnull().sum()"
   ]
  },
  {
   "cell_type": "code",
   "execution_count": 178,
   "id": "8c44269a",
   "metadata": {},
   "outputs": [],
   "source": [
    "#dropping the length column\n",
    "df = df.drop(['len'], axis=1)"
   ]
  },
  {
   "cell_type": "code",
   "execution_count": 179,
   "id": "09f4fca3",
   "metadata": {},
   "outputs": [
    {
     "name": "stderr",
     "output_type": "stream",
     "text": [
      "/opt/anaconda3/lib/python3.8/site-packages/pandas/core/strings/accessor.py:101: UserWarning: This pattern has match groups. To actually get the groups, use str.extract.\n",
      "  return func(self, *args, **kwargs)\n"
     ]
    },
    {
     "data": {
      "text/html": [
       "<div>\n",
       "<style scoped>\n",
       "    .dataframe tbody tr th:only-of-type {\n",
       "        vertical-align: middle;\n",
       "    }\n",
       "\n",
       "    .dataframe tbody tr th {\n",
       "        vertical-align: top;\n",
       "    }\n",
       "\n",
       "    .dataframe thead th {\n",
       "        text-align: right;\n",
       "    }\n",
       "</style>\n",
       "<table border=\"1\" class=\"dataframe\">\n",
       "  <thead>\n",
       "    <tr style=\"text-align: right;\">\n",
       "      <th></th>\n",
       "      <th>review</th>\n",
       "      <th>recommended</th>\n",
       "    </tr>\n",
       "  </thead>\n",
       "  <tbody>\n",
       "    <tr>\n",
       "      <th>86</th>\n",
       "      <td>It's 2021. This is the first time I have played this. All of the good things that I was told about this game still hold up to this day. What an amazing game! 11/10. Recommended for everyone!</td>\n",
       "      <td>True</td>\n",
       "    </tr>\n",
       "    <tr>\n",
       "      <th>109</th>\n",
       "      <td>no matter how many mods you download, Roach is still is dumb fuck10/10</td>\n",
       "      <td>True</td>\n",
       "    </tr>\n",
       "    <tr>\n",
       "      <th>138</th>\n",
       "      <td>Been a gamer all my life and this one is the best ive played hands down 10/10</td>\n",
       "      <td>True</td>\n",
       "    </tr>\n",
       "    <tr>\n",
       "      <th>162</th>\n",
       "      <td>Maybe one of the best games of history. The swords are enough to make one addicted. 10/10.</td>\n",
       "      <td>True</td>\n",
       "    </tr>\n",
       "    <tr>\n",
       "      <th>169</th>\n",
       "      <td>10/10</td>\n",
       "      <td>True</td>\n",
       "    </tr>\n",
       "    <tr>\n",
       "      <th>...</th>\n",
       "      <td>...</td>\n",
       "      <td>...</td>\n",
       "    </tr>\n",
       "    <tr>\n",
       "      <th>151441</th>\n",
       "      <td>Story is great Combat is funSigns are usefulQuest are fun and interestingI think this just became my favorite game10/10</td>\n",
       "      <td>True</td>\n",
       "    </tr>\n",
       "    <tr>\n",
       "      <th>151446</th>\n",
       "      <td>Started gameChose hardest difficultyDied to the very first encounter within seconds10/10</td>\n",
       "      <td>True</td>\n",
       "    </tr>\n",
       "    <tr>\n",
       "      <th>151447</th>\n",
       "      <td>*Preordered but still throws money to screen even after launch*11/10 will throw again.</td>\n",
       "      <td>True</td>\n",
       "    </tr>\n",
       "    <tr>\n",
       "      <th>151452</th>\n",
       "      <td>Probably game everStory - 9/10Gameplay 10/10Music - 10/10Graphics - 10/10P.S. Sandbox for screenshots</td>\n",
       "      <td>True</td>\n",
       "    </tr>\n",
       "    <tr>\n",
       "      <th>151455</th>\n",
       "      <td>had sex on a unicorn 10/10</td>\n",
       "      <td>True</td>\n",
       "    </tr>\n",
       "  </tbody>\n",
       "</table>\n",
       "<p>14878 rows × 2 columns</p>\n",
       "</div>"
      ],
      "text/plain": [
       "                                                                                                                                                                                                review  \\\n",
       "86      It's 2021. This is the first time I have played this. All of the good things that I was told about this game still hold up to this day. What an amazing game! 11/10. Recommended for everyone!   \n",
       "109                                                                                                                             no matter how many mods you download, Roach is still is dumb fuck10/10   \n",
       "138                                                                                                                      Been a gamer all my life and this one is the best ive played hands down 10/10   \n",
       "162                                                                                                         Maybe one of the best games of history. The swords are enough to make one addicted. 10/10.   \n",
       "169                                                                                                                                                                                              10/10   \n",
       "...                                                                                                                                                                                                ...   \n",
       "151441                                                                         Story is great Combat is funSigns are usefulQuest are fun and interestingI think this just became my favorite game10/10   \n",
       "151446                                                                                                        Started gameChose hardest difficultyDied to the very first encounter within seconds10/10   \n",
       "151447                                                                                                          *Preordered but still throws money to screen even after launch*11/10 will throw again.   \n",
       "151452                                                                                           Probably game everStory - 9/10Gameplay 10/10Music - 10/10Graphics - 10/10P.S. Sandbox for screenshots   \n",
       "151455                                                                                                                                                                      had sex on a unicorn 10/10   \n",
       "\n",
       "        recommended  \n",
       "86             True  \n",
       "109            True  \n",
       "138            True  \n",
       "162            True  \n",
       "169            True  \n",
       "...             ...  \n",
       "151441         True  \n",
       "151446         True  \n",
       "151447         True  \n",
       "151452         True  \n",
       "151455         True  \n",
       "\n",
       "[14878 rows x 2 columns]"
      ]
     },
     "execution_count": 179,
     "metadata": {},
     "output_type": "execute_result"
    }
   ],
   "source": [
    "#checking for good score\n",
    "df[df['review'].str.contains(\"([5-9]|10|11|12)\"+\"/10\")]"
   ]
  },
  {
   "cell_type": "code",
   "execution_count": 180,
   "id": "1e07973f",
   "metadata": {},
   "outputs": [
    {
     "name": "stderr",
     "output_type": "stream",
     "text": [
      "/opt/anaconda3/lib/python3.8/site-packages/pandas/core/strings/accessor.py:101: UserWarning: This pattern has match groups. To actually get the groups, use str.extract.\n",
      "  return func(self, *args, **kwargs)\n"
     ]
    },
    {
     "data": {
      "text/html": [
       "<div>\n",
       "<style scoped>\n",
       "    .dataframe tbody tr th:only-of-type {\n",
       "        vertical-align: middle;\n",
       "    }\n",
       "\n",
       "    .dataframe tbody tr th {\n",
       "        vertical-align: top;\n",
       "    }\n",
       "\n",
       "    .dataframe thead th {\n",
       "        text-align: right;\n",
       "    }\n",
       "</style>\n",
       "<table border=\"1\" class=\"dataframe\">\n",
       "  <thead>\n",
       "    <tr style=\"text-align: right;\">\n",
       "      <th></th>\n",
       "      <th>review</th>\n",
       "      <th>recommended</th>\n",
       "    </tr>\n",
       "  </thead>\n",
       "  <tbody>\n",
       "    <tr>\n",
       "      <th>412</th>\n",
       "      <td>Did not enjoy this game. Main questline is too boring as it feels repetitive (In order to find someone, you have to find another, then find something for that someone and repeat). I did not enjoy the health mechanism and I would have liked a more customisable armor set where you can manually do ...</td>\n",
       "      <td>False</td>\n",
       "    </tr>\n",
       "    <tr>\n",
       "      <th>2680</th>\n",
       "      <td>Game's ok I guess. Youre witch or something but i got one major issue with it. At the beginning there's a dude whos looking for his brother. His brother has a dog and with your help the dog finds the lost brother. Cool story exept that even after completing the quest I CANNOT PET THE DOG. His na...</td>\n",
       "      <td>True</td>\n",
       "    </tr>\n",
       "    <tr>\n",
       "      <th>2831</th>\n",
       "      <td>lost all my savings on Gwent, 0/10</td>\n",
       "      <td>True</td>\n",
       "    </tr>\n",
       "    <tr>\n",
       "      <th>4610</th>\n",
       "      <td>One of the best games ever, 2/10</td>\n",
       "      <td>True</td>\n",
       "    </tr>\n",
       "    <tr>\n",
       "      <th>6923</th>\n",
       "      <td>Dammm... so much quests bugged, can't receive quest items... sometimes console helps, but not always... Because of this my grade would be 4/10. Bugged quests destroy all game experience...</td>\n",
       "      <td>False</td>\n",
       "    </tr>\n",
       "    <tr>\n",
       "      <th>...</th>\n",
       "      <td>...</td>\n",
       "      <td>...</td>\n",
       "    </tr>\n",
       "    <tr>\n",
       "      <th>149978</th>\n",
       "      <td>A kid told me to fuck off 0/10 game of the year</td>\n",
       "      <td>True</td>\n",
       "    </tr>\n",
       "    <tr>\n",
       "      <th>150316</th>\n",
       "      <td>Poorly optimized game that crashes over and over. was able to play for a few hours when it would crash on occasion but i got to a spot in a cave and it just keeps minimizing itself and wont open up have to task manager close it. Didn't see a Early Access tag on this so what gives??? 0/10 do not ...</td>\n",
       "      <td>False</td>\n",
       "    </tr>\n",
       "    <tr>\n",
       "      <th>150326</th>\n",
       "      <td>Very hard to control your character during battle(Typically you can't rely on autoaim at all, since it's totally random bugged shit)Enemys can randomly insta-attack you w/o any animation and that frustrates me much, and they also can hit you even if you dodged and your fucking hitboxes 1km away....</td>\n",
       "      <td>False</td>\n",
       "    </tr>\n",
       "    <tr>\n",
       "      <th>150782</th>\n",
       "      <td>I love PC gaming, but PC gamers are some of the most obnoxious, entitled, and whiny people you will ever encounter. It's funny how you look at the PS4 and Xbox One reviews of this game and see unanimously favorable reviews from critics AND users. But when you look at the PC reviews people give 0...</td>\n",
       "      <td>True</td>\n",
       "    </tr>\n",
       "    <tr>\n",
       "      <th>150997</th>\n",
       "      <td>Can't hit children 0/10</td>\n",
       "      <td>True</td>\n",
       "    </tr>\n",
       "  </tbody>\n",
       "</table>\n",
       "<p>186 rows × 2 columns</p>\n",
       "</div>"
      ],
      "text/plain": [
       "                                                                                                                                                                                                                                                                                                             review  \\\n",
       "412     Did not enjoy this game. Main questline is too boring as it feels repetitive (In order to find someone, you have to find another, then find something for that someone and repeat). I did not enjoy the health mechanism and I would have liked a more customisable armor set where you can manually do ...   \n",
       "2680    Game's ok I guess. Youre witch or something but i got one major issue with it. At the beginning there's a dude whos looking for his brother. His brother has a dog and with your help the dog finds the lost brother. Cool story exept that even after completing the quest I CANNOT PET THE DOG. His na...   \n",
       "2831                                                                                                                                                                                                                                                                             lost all my savings on Gwent, 0/10   \n",
       "4610                                                                                                                                                                                                                                                                               One of the best games ever, 2/10   \n",
       "6923                                                                                                                   Dammm... so much quests bugged, can't receive quest items... sometimes console helps, but not always... Because of this my grade would be 4/10. Bugged quests destroy all game experience...   \n",
       "...                                                                                                                                                                                                                                                                                                             ...   \n",
       "149978                                                                                                                                                                                                                                                              A kid told me to fuck off 0/10 game of the year   \n",
       "150316  Poorly optimized game that crashes over and over. was able to play for a few hours when it would crash on occasion but i got to a spot in a cave and it just keeps minimizing itself and wont open up have to task manager close it. Didn't see a Early Access tag on this so what gives??? 0/10 do not ...   \n",
       "150326  Very hard to control your character during battle(Typically you can't rely on autoaim at all, since it's totally random bugged shit)Enemys can randomly insta-attack you w/o any animation and that frustrates me much, and they also can hit you even if you dodged and your fucking hitboxes 1km away....   \n",
       "150782  I love PC gaming, but PC gamers are some of the most obnoxious, entitled, and whiny people you will ever encounter. It's funny how you look at the PS4 and Xbox One reviews of this game and see unanimously favorable reviews from critics AND users. But when you look at the PC reviews people give 0...   \n",
       "150997                                                                                                                                                                                                                                                                                      Can't hit children 0/10   \n",
       "\n",
       "        recommended  \n",
       "412           False  \n",
       "2680           True  \n",
       "2831           True  \n",
       "4610           True  \n",
       "6923          False  \n",
       "...             ...  \n",
       "149978         True  \n",
       "150316        False  \n",
       "150326        False  \n",
       "150782         True  \n",
       "150997         True  \n",
       "\n",
       "[186 rows x 2 columns]"
      ]
     },
     "execution_count": 180,
     "metadata": {},
     "output_type": "execute_result"
    }
   ],
   "source": [
    "#checking for bad scores\n",
    "df[df['review'].str.contains(\" \"+\"([0-5])\"+\"/10\")]"
   ]
  },
  {
   "cell_type": "code",
   "execution_count": 181,
   "id": "6401bb5c",
   "metadata": {},
   "outputs": [],
   "source": [
    "#replacing scores\n",
    "def remove_best(text):\n",
    "    scorefree=re.sub(r\"(10|11|12)\"+\"/10\", 'best', text)\n",
    "    return scorefree\n",
    "\n",
    "def remove_good(text):\n",
    "    scorefree=re.sub(r\"([6-9])\"+\"/10\", 'good', text)\n",
    "    return scorefree\n",
    "\n",
    "def remove_bad(text):\n",
    "    scorefree=re.sub(r\"([0-5])\"+\"/10\", 'bad', text)\n",
    "    return scorefree"
   ]
  },
  {
   "cell_type": "code",
   "execution_count": 182,
   "id": "91b64efa",
   "metadata": {},
   "outputs": [],
   "source": [
    "#replacing perfect score with best\n",
    "df['review'] = df['review'].apply(lambda x:remove_best(x))"
   ]
  },
  {
   "cell_type": "code",
   "execution_count": 183,
   "id": "81aed639",
   "metadata": {},
   "outputs": [],
   "source": [
    "#replacing good score with good\n",
    "df['review'] = df['review'].apply(lambda x:remove_good(x))"
   ]
  },
  {
   "cell_type": "code",
   "execution_count": 184,
   "id": "89c03912",
   "metadata": {},
   "outputs": [],
   "source": [
    "#replacing bad score with bad\n",
    "df['review'] = df['review'].apply(lambda x:remove_bad(x))"
   ]
  },
  {
   "cell_type": "code",
   "execution_count": 185,
   "id": "3399da18",
   "metadata": {},
   "outputs": [],
   "source": [
    "#defining the function to remove punctuation\n",
    "def removepunctuation(text):\n",
    "    punctuationfree=\"\".join([i for i in text if i not in string.punctuation])\n",
    "    return punctuationfree\n",
    "#storing the puntuation free text\n",
    "df['review'] = df[\"review\"].apply(lambda x:removepunctuation(x))"
   ]
  },
  {
   "cell_type": "code",
   "execution_count": 186,
   "id": "71531f4f",
   "metadata": {},
   "outputs": [],
   "source": [
    "#converting to lower case\n",
    "df['review'] = df['review'].apply(lambda x: x.lower())"
   ]
  },
  {
   "cell_type": "code",
   "execution_count": 187,
   "id": "a8d18a99",
   "metadata": {},
   "outputs": [
    {
     "data": {
      "text/plain": [
       "'soo cool'"
      ]
     },
     "execution_count": 187,
     "metadata": {},
     "output_type": "execute_result"
    }
   ],
   "source": [
    "#replacing repeating characters\n",
    "re.sub(r\"(.)\\1+\", r\"\\1\\1\", \"sooo cool\")"
   ]
  },
  {
   "cell_type": "code",
   "execution_count": 188,
   "id": "80ea9207",
   "metadata": {},
   "outputs": [],
   "source": [
    "#removing special caracters\n",
    "def removespecial(text):\n",
    "    specialfree=re.sub('[^a-zA-Z]+', ' ', text)\n",
    "    return specialfree\n",
    "\n",
    "df['review'] = df['review'].apply(lambda x:removespecial(x))"
   ]
  },
  {
   "cell_type": "code",
   "execution_count": 189,
   "id": "5901d661",
   "metadata": {},
   "outputs": [],
   "source": [
    "#removing repeating characters\n",
    "def removemultiple(text):\n",
    "    multiplefree=re.sub(r\"(.)\\1+\", r\"\\1\\1\", text)\n",
    "    return multiplefree\n",
    "\n",
    "df['review'] = df['review'].apply(lambda x:removemultiple(x))"
   ]
  },
  {
   "cell_type": "code",
   "execution_count": 190,
   "id": "0d2dcd4f",
   "metadata": {},
   "outputs": [],
   "source": [
    "#replacing most used slang words\n",
    "df = df.replace(regex=[\"gg\"], value='good game')\n",
    "df = df.replace(regex=[\"oh my god\"], value='omg')"
   ]
  },
  {
   "cell_type": "code",
   "execution_count": 191,
   "id": "a42ee6f4",
   "metadata": {},
   "outputs": [
    {
     "data": {
      "text/html": [
       "<div>\n",
       "<style scoped>\n",
       "    .dataframe tbody tr th:only-of-type {\n",
       "        vertical-align: middle;\n",
       "    }\n",
       "\n",
       "    .dataframe tbody tr th {\n",
       "        vertical-align: top;\n",
       "    }\n",
       "\n",
       "    .dataframe thead th {\n",
       "        text-align: right;\n",
       "    }\n",
       "</style>\n",
       "<table border=\"1\" class=\"dataframe\">\n",
       "  <thead>\n",
       "    <tr style=\"text-align: right;\">\n",
       "      <th></th>\n",
       "      <th>review</th>\n",
       "      <th>recommended</th>\n",
       "    </tr>\n",
       "  </thead>\n",
       "  <tbody>\n",
       "    <tr>\n",
       "      <th>79</th>\n",
       "      <td>cant believe i havent rated this so far lol good</td>\n",
       "      <td>True</td>\n",
       "    </tr>\n",
       "    <tr>\n",
       "      <th>280</th>\n",
       "      <td>not normally into wizards and stuff honestly find it lazy writing because any problem or solution can be explained by magic lol but this game got morbid right quick and i dig it</td>\n",
       "      <td>True</td>\n",
       "    </tr>\n",
       "    <tr>\n",
       "      <th>313</th>\n",
       "      <td>playing a few hours into this and i knew what cyberpunk would be lolthey try but they dont even get close</td>\n",
       "      <td>False</td>\n",
       "    </tr>\n",
       "    <tr>\n",
       "      <th>611</th>\n",
       "      <td>just get it lol dont even think about it</td>\n",
       "      <td>True</td>\n",
       "    </tr>\n",
       "    <tr>\n",
       "      <th>1057</th>\n",
       "      <td>open world with lots of different interesting outcomes even for side quests gotta be one of the best open world games out there captures the medieval world pretty well even teaches you how people used to treat boils and how girls used to make eyeliners with egood game yolks lol also the bestiary...</td>\n",
       "      <td>True</td>\n",
       "    </tr>\n",
       "    <tr>\n",
       "      <th>...</th>\n",
       "      <td>...</td>\n",
       "      <td>...</td>\n",
       "    </tr>\n",
       "    <tr>\n",
       "      <th>151066</th>\n",
       "      <td>hours in and having a blast so far so good and so worth the purchase ok its been awhile since last review this game is so worth it yes im finally getting just a little board after hours lol</td>\n",
       "      <td>True</td>\n",
       "    </tr>\n",
       "    <tr>\n",
       "      <th>151102</th>\n",
       "      <td>great game loving it so far and have had no issues and running everything on maxed out settings with vsync on and that means with hairworks on as well and i hit fps with no issues havent checked fps during cut scenes yet but honestly heard someone mad about cut scenes dropping to around fps duri...</td>\n",
       "      <td>True</td>\n",
       "    </tr>\n",
       "    <tr>\n",
       "      <th>151110</th>\n",
       "      <td>you know im honestly surprised how little this got mentioned in the comments i even asked one of my friends why he bought it on steam in the first place but the truth of the matter was that he just didnt know that there were other better avenues to buy this beauty he regretted it a fair bit when...</td>\n",
       "      <td>True</td>\n",
       "    </tr>\n",
       "    <tr>\n",
       "      <th>151370</th>\n",
       "      <td>okfirst review how the wild hunt is going onafter glorious minutes being around geralt it literally blew up the third hdpartion which we just set up for meetings with the witcher himself damn he is such a vip here lol wisely knowing that this happened a couple of years ago when we first met and ...</td>\n",
       "      <td>True</td>\n",
       "    </tr>\n",
       "    <tr>\n",
       "      <th>151374</th>\n",
       "      <td>best lolcats good</td>\n",
       "      <td>True</td>\n",
       "    </tr>\n",
       "  </tbody>\n",
       "</table>\n",
       "<p>599 rows × 2 columns</p>\n",
       "</div>"
      ],
      "text/plain": [
       "                                                                                                                                                                                                                                                                                                             review  \\\n",
       "79                                                                                                                                                                                                                                                                 cant believe i havent rated this so far lol good   \n",
       "280                                                                                                                               not normally into wizards and stuff honestly find it lazy writing because any problem or solution can be explained by magic lol but this game got morbid right quick and i dig it   \n",
       "313                                                                                                                                                                                                       playing a few hours into this and i knew what cyberpunk would be lolthey try but they dont even get close   \n",
       "611                                                                                                                                                                                                                                                                        just get it lol dont even think about it   \n",
       "1057    open world with lots of different interesting outcomes even for side quests gotta be one of the best open world games out there captures the medieval world pretty well even teaches you how people used to treat boils and how girls used to make eyeliners with egood game yolks lol also the bestiary...   \n",
       "...                                                                                                                                                                                                                                                                                                             ...   \n",
       "151066                                                                                                                hours in and having a blast so far so good and so worth the purchase ok its been awhile since last review this game is so worth it yes im finally getting just a little board after hours lol   \n",
       "151102  great game loving it so far and have had no issues and running everything on maxed out settings with vsync on and that means with hairworks on as well and i hit fps with no issues havent checked fps during cut scenes yet but honestly heard someone mad about cut scenes dropping to around fps duri...   \n",
       "151110  you know im honestly surprised how little this got mentioned in the comments i even asked one of my friends why he bought it on steam in the first place but the truth of the matter was that he just didnt know that there were other better avenues to buy this beauty he regretted it a fair bit when...   \n",
       "151370  okfirst review how the wild hunt is going onafter glorious minutes being around geralt it literally blew up the third hdpartion which we just set up for meetings with the witcher himself damn he is such a vip here lol wisely knowing that this happened a couple of years ago when we first met and ...   \n",
       "151374                                                                                                                                                                                                                                                                                            best lolcats good   \n",
       "\n",
       "        recommended  \n",
       "79             True  \n",
       "280            True  \n",
       "313           False  \n",
       "611            True  \n",
       "1057           True  \n",
       "...             ...  \n",
       "151066         True  \n",
       "151102         True  \n",
       "151110         True  \n",
       "151370         True  \n",
       "151374         True  \n",
       "\n",
       "[599 rows x 2 columns]"
      ]
     },
     "execution_count": 191,
     "metadata": {},
     "output_type": "execute_result"
    }
   ],
   "source": [
    "df[df['review'].str.contains(\"lol\")]"
   ]
  },
  {
   "cell_type": "code",
   "execution_count": 192,
   "id": "4267d597",
   "metadata": {},
   "outputs": [],
   "source": [
    "#removing stopwords\n",
    "stopwords = nltk.corpus.stopwords.words('english')\n",
    "#defining the function to remove stopwords from tokenized text\n",
    "def removestopwords(text):\n",
    "    no_stop_words= \" \".join([i for i in text.split() if i not in stopwords])\n",
    "    return no_stop_words\n",
    "\n",
    "#data['review'] = data['review'].apply(lambda x:removestopwords(x))"
   ]
  },
  {
   "cell_type": "code",
   "execution_count": 193,
   "id": "07aba2d4",
   "metadata": {},
   "outputs": [],
   "source": [
    "#defining the object for Lemmatization\n",
    "wordnet_lemmatizer = WordNetLemmatizer()\n",
    "#defining the function for lemmatization\n",
    "def lemmatizer(text):\n",
    "    lemm_text = \" \".join([wordnet_lemmatizer.lemmatize(word) for word in text.split()])\n",
    "    return lemm_text\n",
    "\n",
    "#data['review'].apply(lambda x:lemmatizer(x))"
   ]
  },
  {
   "cell_type": "markdown",
   "id": "0e43ecca",
   "metadata": {},
   "source": [
    "## Step 2.3 : first data analysis"
   ]
  },
  {
   "cell_type": "code",
   "execution_count": 194,
   "id": "e190e192",
   "metadata": {},
   "outputs": [
    {
     "data": {
      "text/plain": [
       "Text(0.5, 1.0, 'Most Frequently Occuring Words - Top 30')"
      ]
     },
     "execution_count": 194,
     "metadata": {},
     "output_type": "execute_result"
    },
    {
     "data": {
      "image/png": "[encoded data removed]",
      "text/plain": [
       "<Figure size 1080x504 with 1 Axes>"
      ]
     },
     "metadata": {
      "needs_background": "light"
     },
     "output_type": "display_data"
    }
   ],
   "source": [
    "#showing the most frequent words\n",
    "cv = CountVectorizer(stop_words = 'english')\n",
    "words = cv.fit_transform(df.review)\n",
    "sum_words = words.sum(axis=0)\n",
    "words_freq = [(word, sum_words[0, i]) for word, i in cv.vocabulary_.items()]\n",
    "words_freq = sorted(words_freq, key = lambda x: x[1], reverse = True)\n",
    "frequency = pd.DataFrame(words_freq, columns=['word', 'freq'])\n",
    "frequency.head(30).plot(x='word', y='freq', kind='bar', figsize=(15, 7), color = 'blue')\n",
    "plt.title(\"Most Frequently Occuring Words - Top 30\")"
   ]
  },
  {
   "cell_type": "code",
   "execution_count": 195,
   "id": "512ddb7b",
   "metadata": {},
   "outputs": [
    {
     "data": {
      "text/plain": [
       "Text(0.5, 1.0, 'WordCloud - Vocabulary from Reviews')"
      ]
     },
     "execution_count": 195,
     "metadata": {},
     "output_type": "execute_result"
    },
    {
     "data": {
      "image/png": "[encoded data removed]",
      "text/plain": [
       "<Figure size 720x576 with 1 Axes>"
      ]
     },
     "metadata": {
      "needs_background": "light"
     },
     "output_type": "display_data"
    }
   ],
   "source": [
    "#generating a worldcloud from the unigrams\n",
    "wordcloud = WordCloud(background_color = 'white', width = 1000, height = 1000).generate_from_frequencies(dict(words_freq))\n",
    "plt.figure(figsize=(10,8))\n",
    "plt.imshow(wordcloud)\n",
    "plt.title(\"WordCloud - Vocabulary from Reviews\", fontsize = 22)"
   ]
  },
  {
   "cell_type": "code",
   "execution_count": 196,
   "id": "858d0187",
   "metadata": {},
   "outputs": [
    {
     "data": {
      "text/plain": [
       "Text(0.5, 1.0, 'Most Frequently Occuring Words - Top 30')"
      ]
     },
     "execution_count": 196,
     "metadata": {},
     "output_type": "execute_result"
    },
    {
     "data": {
      "image/png": "[encoded data removed]",
      "text/plain": [
       "<Figure size 1080x504 with 1 Axes>"
      ]
     },
     "metadata": {
      "needs_background": "light"
     },
     "output_type": "display_data"
    }
   ],
   "source": [
    "#showing the most frequent bigrams\n",
    "cv = CountVectorizer(stop_words = 'english', ngram_range=(2,2)) \n",
    "words = cv.fit_transform(df.review)\n",
    "sum_words = words.sum(axis=0)\n",
    "words_freq = [(word, sum_words[0, i]) for word, i in cv.vocabulary_.items()]\n",
    "words_freq = sorted(words_freq, key = lambda x: x[1], reverse = True)\n",
    "frequency = pd.DataFrame(words_freq, columns=['word', 'freq'])\n",
    "frequency.head(30).plot(x='word', y='freq', kind='bar', figsize=(15, 7), color = 'blue')\n",
    "plt.title(\"Most Frequently Occuring Words - Top 30\")"
   ]
  },
  {
   "cell_type": "markdown",
   "id": "491de468",
   "metadata": {},
   "source": [
    "# Step 3 : Data analysis"
   ]
  },
  {
   "cell_type": "markdown",
   "id": "5db7d764",
   "metadata": {},
   "source": [
    "## Step 3.1 : preparing test and training dataset"
   ]
  },
  {
   "cell_type": "code",
   "execution_count": 197,
   "id": "d789c334",
   "metadata": {},
   "outputs": [],
   "source": [
    "#creation of the balanced training dataset\n",
    "def cre_balanced(number,df):\n",
    "  pos = df[df['recommended']==True].copy()\n",
    "  pos_s = pos.sample(n=number)\n",
    "  neg = df[df['recommended']==False].copy()\n",
    "  neg_s = neg.sample(n=number)\n",
    "  df = pd.concat([neg_s,pos_s])\n",
    "  return df"
   ]
  },
  {
   "cell_type": "code",
   "execution_count": 198,
   "id": "1cd35125",
   "metadata": {},
   "outputs": [],
   "source": [
    "def cre_imbalanced(number,df):\n",
    "  df = df.sample(n=number)\n",
    "  return df"
   ]
  },
  {
   "cell_type": "code",
   "execution_count": 199,
   "id": "e144b6dc",
   "metadata": {},
   "outputs": [],
   "source": [
    "def cre_balanced2(number,df):\n",
    "  pos = df[df['recommended']==True].copy()\n",
    "  pos_s = pos.sample(n=2*number)\n",
    "  neg = df[df['recommended']==False].copy()\n",
    "  neg_s = neg.sample(n=number)\n",
    "  df = pd.concat([neg_s,pos_s])\n",
    "  return df"
   ]
  },
  {
   "cell_type": "code",
   "execution_count": 200,
   "id": "07394afa",
   "metadata": {},
   "outputs": [],
   "source": [
    "\n",
    "def transform(df, vec):\n",
    "  le = preprocessing.LabelEncoder()\n",
    "  df.iloc[:,1] = le.fit_transform(df.iloc[:,1])\n",
    "  x = df.iloc[:,0]\n",
    "  y = df.iloc[:,1]\n",
    "  X_vec = vec.fit_transform(x)\n",
    "  return(X_vec,y)"
   ]
  },
  {
   "cell_type": "code",
   "execution_count": 201,
   "id": "7161bf80",
   "metadata": {},
   "outputs": [
    {
     "data": {
      "text/plain": [
       "(<6000x20712 sparse matrix of type '<class 'numpy.float64'>'\n",
       " \twith 256838 stored elements in Compressed Sparse Row format>,\n",
       " 149174    0\n",
       " 136685    0\n",
       " 107725    0\n",
       " 14190     0\n",
       " 18497     0\n",
       "          ..\n",
       " 78672     1\n",
       " 35138     1\n",
       " 136874    1\n",
       " 3125      1\n",
       " 126740    1\n",
       " Name: recommended, Length: 6000, dtype: int64)"
      ]
     },
     "execution_count": 201,
     "metadata": {},
     "output_type": "execute_result"
    }
   ],
   "source": [
    "transform(cre_balanced(3000,df), TfidfVectorizer() )"
   ]
  },
  {
   "cell_type": "code",
   "execution_count": 202,
   "id": "1754598b",
   "metadata": {},
   "outputs": [],
   "source": [
    "def perform(x_train, x_test, y_train, y_test,model,bool=False,convert=False):\n",
    "  start = time()\n",
    "  if convert : \n",
    "    model.fit(x_train.toarray(),y_train)\n",
    "  else : \n",
    "    model.fit(x_train,y_train)\n",
    "  end = time() - start\n",
    "  predictions = model.predict(x_test.toarray())\n",
    "  matrix=confusion_matrix(y_test,predictions)\n",
    "  score=accuracy_score(y_test,predictions)\n",
    "  report=classification_report(y_test,predictions)\n",
    "  print(\"end : \",end)\n",
    "  print(\"matrix : \",matrix)\n",
    "  print(\"accuracy score : \" ,score)\n",
    "  print(\"classification report : \",report)\n",
    "  if bool : \n",
    "    print(\"training set : '\", roc_auc_score(y_train, model.predict_proba(x_train)[:, 1]))\n",
    "    print(\"test set : '\",roc_auc_score(y_test, model.predict_proba(x_test)[:, 1]))"
   ]
  },
  {
   "cell_type": "markdown",
   "id": "a1afb9c7",
   "metadata": {},
   "source": [
    "## Step 3.2 : Results - balanced test"
   ]
  },
  {
   "cell_type": "code",
   "execution_count": 203,
   "id": "a15d495b",
   "metadata": {},
   "outputs": [],
   "source": [
    "#create a balanced dataset\n",
    "df1 = cre_balanced(3000,df)\n",
    "X_vec,y=transform(cre_balanced(3000,df1), TfidfVectorizer()) \n",
    "x_train, x_test, y_train, y_test = train_test_split(X_vec, y,test_size=0.2)"
   ]
  },
  {
   "cell_type": "code",
   "execution_count": 204,
   "id": "3f8086d9",
   "metadata": {},
   "outputs": [
    {
     "name": "stdout",
     "output_type": "stream",
     "text": [
      "end :  0.11867070198059082\n",
      "matrix :  [[556  69]\n",
      " [ 78 497]]\n",
      "accuracy score :  0.8775\n",
      "classification report :                precision    recall  f1-score   support\n",
      "\n",
      "           0       0.88      0.89      0.88       625\n",
      "           1       0.88      0.86      0.87       575\n",
      "\n",
      "    accuracy                           0.88      1200\n",
      "   macro avg       0.88      0.88      0.88      1200\n",
      "weighted avg       0.88      0.88      0.88      1200\n",
      "\n"
     ]
    }
   ],
   "source": [
    "#logistic regression\n",
    "perform(x_train, x_test, y_train, y_test,LogisticRegression(max_iter=1000))"
   ]
  },
  {
   "cell_type": "code",
   "execution_count": 205,
   "id": "bdb3e1ca",
   "metadata": {},
   "outputs": [
    {
     "name": "stdout",
     "output_type": "stream",
     "text": [
      "end :  2.484753131866455\n",
      "matrix :  [[566  59]\n",
      " [ 67 508]]\n",
      "accuracy score :  0.895\n",
      "classification report :                precision    recall  f1-score   support\n",
      "\n",
      "           0       0.89      0.91      0.90       625\n",
      "           1       0.90      0.88      0.89       575\n",
      "\n",
      "    accuracy                           0.90      1200\n",
      "   macro avg       0.90      0.89      0.89      1200\n",
      "weighted avg       0.90      0.90      0.89      1200\n",
      "\n"
     ]
    }
   ],
   "source": [
    "#support vector machine\n",
    "perform(x_train, x_test, y_train, y_test,svm.SVC(kernel='linear', C = 1.0),False)"
   ]
  },
  {
   "cell_type": "code",
   "execution_count": 206,
   "id": "d51a5239",
   "metadata": {},
   "outputs": [
    {
     "name": "stdout",
     "output_type": "stream",
     "text": [
      "end :  0.7563080787658691\n",
      "matrix :  [[482 143]\n",
      " [117 458]]\n",
      "accuracy score :  0.7833333333333333\n",
      "classification report :                precision    recall  f1-score   support\n",
      "\n",
      "           0       0.80      0.77      0.79       625\n",
      "           1       0.76      0.80      0.78       575\n",
      "\n",
      "    accuracy                           0.78      1200\n",
      "   macro avg       0.78      0.78      0.78      1200\n",
      "weighted avg       0.78      0.78      0.78      1200\n",
      "\n",
      "training set : ' 0.9999351492132393\n",
      "test set : ' 0.7931798260869565\n"
     ]
    }
   ],
   "source": [
    "#decision tree\n",
    "perform(x_train, x_test, y_train, y_test,tree.DecisionTreeClassifier(),True)"
   ]
  },
  {
   "cell_type": "code",
   "execution_count": 207,
   "id": "ccc70e5b",
   "metadata": {},
   "outputs": [
    {
     "name": "stdout",
     "output_type": "stream",
     "text": [
      "end :  12.675679922103882\n",
      "matrix :  [[537  88]\n",
      " [109 466]]\n",
      "accuracy score :  0.8358333333333333\n",
      "classification report :                precision    recall  f1-score   support\n",
      "\n",
      "           0       0.83      0.86      0.85       625\n",
      "           1       0.84      0.81      0.83       575\n",
      "\n",
      "    accuracy                           0.84      1200\n",
      "   macro avg       0.84      0.83      0.84      1200\n",
      "weighted avg       0.84      0.84      0.84      1200\n",
      "\n"
     ]
    }
   ],
   "source": [
    "#Random forest\n",
    "perform(x_train, x_test, y_train, y_test,RandomForestClassifier(n_estimators=200,criterion='entropy'),False)"
   ]
  },
  {
   "cell_type": "markdown",
   "id": "6b78f614",
   "metadata": {},
   "source": [
    "## Step 3.3 : Results - unbalanced test"
   ]
  },
  {
   "cell_type": "code",
   "execution_count": 208,
   "id": "c8f0882a",
   "metadata": {},
   "outputs": [],
   "source": [
    "#imbalanced dataset\n",
    "df2 = cre_imbalanced(3000,df)\n",
    "X_vec,y=transform(df2, TfidfVectorizer()) \n",
    "x_train, x_test, y_train, y_test = train_test_split(X_vec, y,test_size=0.2)"
   ]
  },
  {
   "cell_type": "code",
   "execution_count": 209,
   "id": "36e1b65e",
   "metadata": {},
   "outputs": [
    {
     "name": "stdout",
     "output_type": "stream",
     "text": [
      "end :  0.04198408126831055\n",
      "matrix :  [[  0  16]\n",
      " [  0 584]]\n",
      "accuracy score :  0.9733333333333334\n",
      "classification report :                precision    recall  f1-score   support\n",
      "\n",
      "           0       0.00      0.00      0.00        16\n",
      "           1       0.97      1.00      0.99       584\n",
      "\n",
      "    accuracy                           0.97       600\n",
      "   macro avg       0.49      0.50      0.49       600\n",
      "weighted avg       0.95      0.97      0.96       600\n",
      "\n"
     ]
    },
    {
     "name": "stderr",
     "output_type": "stream",
     "text": [
      "/opt/anaconda3/lib/python3.8/site-packages/sklearn/metrics/_classification.py:1245: UndefinedMetricWarning: Precision and F-score are ill-defined and being set to 0.0 in labels with no predicted samples. Use `zero_division` parameter to control this behavior.\n",
      "  _warn_prf(average, modifier, msg_start, len(result))\n",
      "/opt/anaconda3/lib/python3.8/site-packages/sklearn/metrics/_classification.py:1245: UndefinedMetricWarning: Precision and F-score are ill-defined and being set to 0.0 in labels with no predicted samples. Use `zero_division` parameter to control this behavior.\n",
      "  _warn_prf(average, modifier, msg_start, len(result))\n",
      "/opt/anaconda3/lib/python3.8/site-packages/sklearn/metrics/_classification.py:1245: UndefinedMetricWarning: Precision and F-score are ill-defined and being set to 0.0 in labels with no predicted samples. Use `zero_division` parameter to control this behavior.\n",
      "  _warn_prf(average, modifier, msg_start, len(result))\n"
     ]
    }
   ],
   "source": [
    "#logistic regression\n",
    "perform(x_train, x_test, y_train, y_test,LogisticRegression(max_iter=1000))"
   ]
  },
  {
   "cell_type": "code",
   "execution_count": 210,
   "id": "f29a61b3",
   "metadata": {},
   "outputs": [
    {
     "name": "stdout",
     "output_type": "stream",
     "text": [
      "end :  0.1808619499206543\n",
      "matrix :  [[  0  16]\n",
      " [  0 584]]\n",
      "accuracy score :  0.9733333333333334\n",
      "classification report :                precision    recall  f1-score   support\n",
      "\n",
      "           0       0.00      0.00      0.00        16\n",
      "           1       0.97      1.00      0.99       584\n",
      "\n",
      "    accuracy                           0.97       600\n",
      "   macro avg       0.49      0.50      0.49       600\n",
      "weighted avg       0.95      0.97      0.96       600\n",
      "\n"
     ]
    },
    {
     "name": "stderr",
     "output_type": "stream",
     "text": [
      "/opt/anaconda3/lib/python3.8/site-packages/sklearn/metrics/_classification.py:1245: UndefinedMetricWarning: Precision and F-score are ill-defined and being set to 0.0 in labels with no predicted samples. Use `zero_division` parameter to control this behavior.\n",
      "  _warn_prf(average, modifier, msg_start, len(result))\n",
      "/opt/anaconda3/lib/python3.8/site-packages/sklearn/metrics/_classification.py:1245: UndefinedMetricWarning: Precision and F-score are ill-defined and being set to 0.0 in labels with no predicted samples. Use `zero_division` parameter to control this behavior.\n",
      "  _warn_prf(average, modifier, msg_start, len(result))\n",
      "/opt/anaconda3/lib/python3.8/site-packages/sklearn/metrics/_classification.py:1245: UndefinedMetricWarning: Precision and F-score are ill-defined and being set to 0.0 in labels with no predicted samples. Use `zero_division` parameter to control this behavior.\n",
      "  _warn_prf(average, modifier, msg_start, len(result))\n"
     ]
    }
   ],
   "source": [
    "#support vector machine\n",
    "perform(x_train, x_test, y_train, y_test,svm.SVC(kernel='linear', C = 1.0),False)"
   ]
  },
  {
   "cell_type": "code",
   "execution_count": 211,
   "id": "7a765204",
   "metadata": {},
   "outputs": [
    {
     "name": "stdout",
     "output_type": "stream",
     "text": [
      "end :  1.7085750102996826\n",
      "matrix :  [[  0  16]\n",
      " [  0 584]]\n",
      "accuracy score :  0.9733333333333334\n",
      "classification report :                precision    recall  f1-score   support\n",
      "\n",
      "           0       0.00      0.00      0.00        16\n",
      "           1       0.97      1.00      0.99       584\n",
      "\n",
      "    accuracy                           0.97       600\n",
      "   macro avg       0.49      0.50      0.49       600\n",
      "weighted avg       0.95      0.97      0.96       600\n",
      "\n"
     ]
    },
    {
     "name": "stderr",
     "output_type": "stream",
     "text": [
      "/opt/anaconda3/lib/python3.8/site-packages/sklearn/metrics/_classification.py:1245: UndefinedMetricWarning: Precision and F-score are ill-defined and being set to 0.0 in labels with no predicted samples. Use `zero_division` parameter to control this behavior.\n",
      "  _warn_prf(average, modifier, msg_start, len(result))\n",
      "/opt/anaconda3/lib/python3.8/site-packages/sklearn/metrics/_classification.py:1245: UndefinedMetricWarning: Precision and F-score are ill-defined and being set to 0.0 in labels with no predicted samples. Use `zero_division` parameter to control this behavior.\n",
      "  _warn_prf(average, modifier, msg_start, len(result))\n",
      "/opt/anaconda3/lib/python3.8/site-packages/sklearn/metrics/_classification.py:1245: UndefinedMetricWarning: Precision and F-score are ill-defined and being set to 0.0 in labels with no predicted samples. Use `zero_division` parameter to control this behavior.\n",
      "  _warn_prf(average, modifier, msg_start, len(result))\n"
     ]
    }
   ],
   "source": [
    "#Random forest\n",
    "perform(x_train, x_test, y_train, y_test,RandomForestClassifier(n_estimators=200,criterion='entropy'),False)"
   ]
  },
  {
   "cell_type": "markdown",
   "id": "cec50115",
   "metadata": {},
   "source": [
    "## Step 3.4 : hyperparameterization"
   ]
  },
  {
   "cell_type": "code",
   "execution_count": 155,
   "id": "fc98b69c",
   "metadata": {},
   "outputs": [],
   "source": [
    "from sklearn.model_selection import GridSearchCV"
   ]
  },
  {
   "cell_type": "code",
   "execution_count": 212,
   "id": "fba99832",
   "metadata": {},
   "outputs": [],
   "source": [
    "df3=cre_balanced2(3000,df)"
   ]
  },
  {
   "cell_type": "code",
   "execution_count": 213,
   "id": "b1e8e93a",
   "metadata": {},
   "outputs": [],
   "source": [
    "#parameter tuning for linear kernel\n",
    "param_grid = {'C': [0.1,1, 10, 100]}"
   ]
  },
  {
   "cell_type": "code",
   "execution_count": 214,
   "id": "07e61ed9",
   "metadata": {},
   "outputs": [
    {
     "name": "stdout",
     "output_type": "stream",
     "text": [
      "Fitting 5 folds for each of 4 candidates, totalling 20 fits\n",
      "[CV] END ..............................................C=0.1; total time=   0.3s\n",
      "[CV] END ..............................................C=0.1; total time=   0.3s\n",
      "[CV] END ..............................................C=0.1; total time=   0.3s\n",
      "[CV] END ..............................................C=0.1; total time=   0.3s\n",
      "[CV] END ..............................................C=0.1; total time=   0.3s\n",
      "[CV] END ................................................C=1; total time=   0.3s\n",
      "[CV] END ................................................C=1; total time=   0.3s\n",
      "[CV] END ................................................C=1; total time=   0.3s\n",
      "[CV] END ................................................C=1; total time=   0.3s\n",
      "[CV] END ................................................C=1; total time=   0.3s\n",
      "[CV] END ...............................................C=10; total time=   0.3s\n",
      "[CV] END ...............................................C=10; total time=   0.3s\n",
      "[CV] END ...............................................C=10; total time=   0.3s\n",
      "[CV] END ...............................................C=10; total time=   0.3s\n",
      "[CV] END ...............................................C=10; total time=   0.3s\n",
      "[CV] END ..............................................C=100; total time=   0.4s\n",
      "[CV] END ..............................................C=100; total time=   0.3s\n",
      "[CV] END ..............................................C=100; total time=   0.3s\n",
      "[CV] END ..............................................C=100; total time=   0.3s\n",
      "[CV] END ..............................................C=100; total time=   0.4s\n"
     ]
    },
    {
     "data": {
      "text/plain": [
       "GridSearchCV(estimator=SVC(), param_grid={'C': [0.1, 1, 10, 100]}, verbose=2)"
      ]
     },
     "execution_count": 214,
     "metadata": {},
     "output_type": "execute_result"
    }
   ],
   "source": [
    "x_train, x_test, y_train, y_test = train_test_split(X_vec, y,test_size=0.2)\n",
    "grid = GridSearchCV(SVC(),param_grid,verbose=2)\n",
    "grid.fit(x_train,y_train)"
   ]
  },
  {
   "cell_type": "code",
   "execution_count": 215,
   "id": "bb3875da",
   "metadata": {},
   "outputs": [
    {
     "name": "stdout",
     "output_type": "stream",
     "text": [
      "SVC(C=0.1)\n"
     ]
    }
   ],
   "source": [
    "print(grid.best_estimator_)"
   ]
  },
  {
   "cell_type": "code",
   "execution_count": 216,
   "id": "d03658c5",
   "metadata": {},
   "outputs": [
    {
     "name": "stdout",
     "output_type": "stream",
     "text": [
      "[[  0  13]\n",
      " [  0 587]]\n",
      "              precision    recall  f1-score   support\n",
      "\n",
      "           0       0.00      0.00      0.00        13\n",
      "           1       0.98      1.00      0.99       587\n",
      "\n",
      "    accuracy                           0.98       600\n",
      "   macro avg       0.49      0.50      0.49       600\n",
      "weighted avg       0.96      0.98      0.97       600\n",
      "\n"
     ]
    },
    {
     "name": "stderr",
     "output_type": "stream",
     "text": [
      "/opt/anaconda3/lib/python3.8/site-packages/sklearn/metrics/_classification.py:1245: UndefinedMetricWarning: Precision and F-score are ill-defined and being set to 0.0 in labels with no predicted samples. Use `zero_division` parameter to control this behavior.\n",
      "  _warn_prf(average, modifier, msg_start, len(result))\n",
      "/opt/anaconda3/lib/python3.8/site-packages/sklearn/metrics/_classification.py:1245: UndefinedMetricWarning: Precision and F-score are ill-defined and being set to 0.0 in labels with no predicted samples. Use `zero_division` parameter to control this behavior.\n",
      "  _warn_prf(average, modifier, msg_start, len(result))\n",
      "/opt/anaconda3/lib/python3.8/site-packages/sklearn/metrics/_classification.py:1245: UndefinedMetricWarning: Precision and F-score are ill-defined and being set to 0.0 in labels with no predicted samples. Use `zero_division` parameter to control this behavior.\n",
      "  _warn_prf(average, modifier, msg_start, len(result))\n"
     ]
    }
   ],
   "source": [
    "grid_predictions = grid.predict(x_test)\n",
    "print(confusion_matrix(y_test,grid_predictions))\n",
    "print(classification_report(y_test,grid_predictions))"
   ]
  },
  {
   "cell_type": "code",
   "execution_count": 217,
   "id": "706d56de",
   "metadata": {},
   "outputs": [
    {
     "name": "stdout",
     "output_type": "stream",
     "text": [
      "end :  0.18192815780639648\n",
      "matrix :  [[  5   8]\n",
      " [  2 585]]\n",
      "accuracy score :  0.9833333333333333\n",
      "classification report :                precision    recall  f1-score   support\n",
      "\n",
      "           0       0.71      0.38      0.50        13\n",
      "           1       0.99      1.00      0.99       587\n",
      "\n",
      "    accuracy                           0.98       600\n",
      "   macro avg       0.85      0.69      0.75       600\n",
      "weighted avg       0.98      0.98      0.98       600\n",
      "\n"
     ]
    }
   ],
   "source": [
    "perform(x_train, x_test, y_train, y_test, svm.SVC(kernel='linear',C=10), False)"
   ]
  },
  {
   "cell_type": "code",
   "execution_count": 218,
   "id": "5504887b",
   "metadata": {},
   "outputs": [
    {
     "name": "stdout",
     "output_type": "stream",
     "text": [
      "end :  0.18822312355041504\n",
      "matrix :  [[  1  12]\n",
      " [  1 586]]\n",
      "accuracy score :  0.9783333333333334\n",
      "classification report :                precision    recall  f1-score   support\n",
      "\n",
      "           0       0.50      0.08      0.13        13\n",
      "           1       0.98      1.00      0.99       587\n",
      "\n",
      "    accuracy                           0.98       600\n",
      "   macro avg       0.74      0.54      0.56       600\n",
      "weighted avg       0.97      0.98      0.97       600\n",
      "\n"
     ]
    }
   ],
   "source": [
    "perform(x_train, x_test, y_train, y_test, svm.SVC(kernel='linear',C=1), False, False)"
   ]
  },
  {
   "cell_type": "code",
   "execution_count": 219,
   "id": "074eb1bb",
   "metadata": {},
   "outputs": [
    {
     "name": "stdout",
     "output_type": "stream",
     "text": [
      "end :  0.17777109146118164\n",
      "matrix :  [[  0  13]\n",
      " [  0 587]]\n",
      "accuracy score :  0.9783333333333334\n",
      "classification report :                precision    recall  f1-score   support\n",
      "\n",
      "           0       0.00      0.00      0.00        13\n",
      "           1       0.98      1.00      0.99       587\n",
      "\n",
      "    accuracy                           0.98       600\n",
      "   macro avg       0.49      0.50      0.49       600\n",
      "weighted avg       0.96      0.98      0.97       600\n",
      "\n"
     ]
    },
    {
     "name": "stderr",
     "output_type": "stream",
     "text": [
      "/opt/anaconda3/lib/python3.8/site-packages/sklearn/metrics/_classification.py:1245: UndefinedMetricWarning: Precision and F-score are ill-defined and being set to 0.0 in labels with no predicted samples. Use `zero_division` parameter to control this behavior.\n",
      "  _warn_prf(average, modifier, msg_start, len(result))\n",
      "/opt/anaconda3/lib/python3.8/site-packages/sklearn/metrics/_classification.py:1245: UndefinedMetricWarning: Precision and F-score are ill-defined and being set to 0.0 in labels with no predicted samples. Use `zero_division` parameter to control this behavior.\n",
      "  _warn_prf(average, modifier, msg_start, len(result))\n",
      "/opt/anaconda3/lib/python3.8/site-packages/sklearn/metrics/_classification.py:1245: UndefinedMetricWarning: Precision and F-score are ill-defined and being set to 0.0 in labels with no predicted samples. Use `zero_division` parameter to control this behavior.\n",
      "  _warn_prf(average, modifier, msg_start, len(result))\n"
     ]
    }
   ],
   "source": [
    "perform(x_train, x_test, y_train, y_test, svm.SVC(kernel='linear',C=0.1), False,False)"
   ]
  },
  {
   "cell_type": "code",
   "execution_count": 220,
   "id": "d6893fae",
   "metadata": {},
   "outputs": [
    {
     "name": "stdout",
     "output_type": "stream",
     "text": [
      "end :  0.18467020988464355\n",
      "matrix :  [[  1  12]\n",
      " [  1 586]]\n",
      "accuracy score :  0.9783333333333334\n",
      "classification report :                precision    recall  f1-score   support\n",
      "\n",
      "           0       0.50      0.08      0.13        13\n",
      "           1       0.98      1.00      0.99       587\n",
      "\n",
      "    accuracy                           0.98       600\n",
      "   macro avg       0.74      0.54      0.56       600\n",
      "weighted avg       0.97      0.98      0.97       600\n",
      "\n"
     ]
    }
   ],
   "source": [
    "perform(x_train, x_test, y_train, y_test, svm.SVC(kernel='linear',C=1), False, False)"
   ]
  },
  {
   "cell_type": "code",
   "execution_count": 221,
   "id": "00f89673",
   "metadata": {},
   "outputs": [
    {
     "name": "stdout",
     "output_type": "stream",
     "text": [
      "end :  0.06658697128295898\n",
      "matrix :  [[  0  13]\n",
      " [  0 587]]\n",
      "accuracy score :  0.9783333333333334\n",
      "classification report :                precision    recall  f1-score   support\n",
      "\n",
      "           0       0.00      0.00      0.00        13\n",
      "           1       0.98      1.00      0.99       587\n",
      "\n",
      "    accuracy                           0.98       600\n",
      "   macro avg       0.49      0.50      0.49       600\n",
      "weighted avg       0.96      0.98      0.97       600\n",
      "\n"
     ]
    },
    {
     "name": "stderr",
     "output_type": "stream",
     "text": [
      "/opt/anaconda3/lib/python3.8/site-packages/sklearn/metrics/_classification.py:1245: UndefinedMetricWarning: Precision and F-score are ill-defined and being set to 0.0 in labels with no predicted samples. Use `zero_division` parameter to control this behavior.\n",
      "  _warn_prf(average, modifier, msg_start, len(result))\n",
      "/opt/anaconda3/lib/python3.8/site-packages/sklearn/metrics/_classification.py:1245: UndefinedMetricWarning: Precision and F-score are ill-defined and being set to 0.0 in labels with no predicted samples. Use `zero_division` parameter to control this behavior.\n",
      "  _warn_prf(average, modifier, msg_start, len(result))\n",
      "/opt/anaconda3/lib/python3.8/site-packages/sklearn/metrics/_classification.py:1245: UndefinedMetricWarning: Precision and F-score are ill-defined and being set to 0.0 in labels with no predicted samples. Use `zero_division` parameter to control this behavior.\n",
      "  _warn_prf(average, modifier, msg_start, len(result))\n"
     ]
    }
   ],
   "source": [
    "perform(x_train, x_test, y_train, y_test, svm.SVC(kernel='linear',C=0.001), False, False)"
   ]
  },
  {
   "cell_type": "code",
   "execution_count": 222,
   "id": "78a2800b",
   "metadata": {},
   "outputs": [
    {
     "name": "stdout",
     "output_type": "stream",
     "text": [
      "end :  0.19193792343139648\n",
      "matrix :  [[  4   9]\n",
      " [  2 585]]\n",
      "accuracy score :  0.9816666666666667\n",
      "classification report :                precision    recall  f1-score   support\n",
      "\n",
      "           0       0.67      0.31      0.42        13\n",
      "           1       0.98      1.00      0.99       587\n",
      "\n",
      "    accuracy                           0.98       600\n",
      "   macro avg       0.83      0.65      0.71       600\n",
      "weighted avg       0.98      0.98      0.98       600\n",
      "\n"
     ]
    }
   ],
   "source": [
    "perform(x_train, x_test, y_train, y_test, svm.SVC(kernel='linear',C=5), False, False)"
   ]
  },
  {
   "cell_type": "code",
   "execution_count": 223,
   "id": "420de589",
   "metadata": {},
   "outputs": [
    {
     "name": "stdout",
     "output_type": "stream",
     "text": [
      "end :  0.18066978454589844\n",
      "matrix :  [[  5   8]\n",
      " [  2 585]]\n",
      "accuracy score :  0.9833333333333333\n",
      "classification report :                precision    recall  f1-score   support\n",
      "\n",
      "           0       0.71      0.38      0.50        13\n",
      "           1       0.99      1.00      0.99       587\n",
      "\n",
      "    accuracy                           0.98       600\n",
      "   macro avg       0.85      0.69      0.75       600\n",
      "weighted avg       0.98      0.98      0.98       600\n",
      "\n"
     ]
    }
   ],
   "source": [
    "perform(x_train, x_test, y_train, y_test, svm.SVC(kernel='linear',C=10), False, False)"
   ]
  },
  {
   "cell_type": "code",
   "execution_count": 224,
   "id": "41869160",
   "metadata": {},
   "outputs": [
    {
     "name": "stdout",
     "output_type": "stream",
     "text": [
      "end :  0.15727996826171875\n",
      "matrix :  [[  5   8]\n",
      " [  0 587]]\n",
      "accuracy score :  0.9866666666666667\n",
      "classification report :                precision    recall  f1-score   support\n",
      "\n",
      "           0       1.00      0.38      0.56        13\n",
      "           1       0.99      1.00      0.99       587\n",
      "\n",
      "    accuracy                           0.99       600\n",
      "   macro avg       0.99      0.69      0.77       600\n",
      "weighted avg       0.99      0.99      0.98       600\n",
      "\n"
     ]
    }
   ],
   "source": [
    "perform(x_train, x_test, y_train, y_test, svm.SVC(kernel='linear',C=100), False, False)"
   ]
  },
  {
   "cell_type": "code",
   "execution_count": 225,
   "id": "d4c108b8",
   "metadata": {},
   "outputs": [
    {
     "name": "stdout",
     "output_type": "stream",
     "text": [
      "end :  0.1406087875366211\n",
      "matrix :  [[  0  13]\n",
      " [  0 587]]\n",
      "accuracy score :  0.9783333333333334\n",
      "classification report :                precision    recall  f1-score   support\n",
      "\n",
      "           0       0.00      0.00      0.00        13\n",
      "           1       0.98      1.00      0.99       587\n",
      "\n",
      "    accuracy                           0.98       600\n",
      "   macro avg       0.49      0.50      0.49       600\n",
      "weighted avg       0.96      0.98      0.97       600\n",
      "\n"
     ]
    },
    {
     "name": "stderr",
     "output_type": "stream",
     "text": [
      "/opt/anaconda3/lib/python3.8/site-packages/sklearn/metrics/_classification.py:1245: UndefinedMetricWarning: Precision and F-score are ill-defined and being set to 0.0 in labels with no predicted samples. Use `zero_division` parameter to control this behavior.\n",
      "  _warn_prf(average, modifier, msg_start, len(result))\n",
      "/opt/anaconda3/lib/python3.8/site-packages/sklearn/metrics/_classification.py:1245: UndefinedMetricWarning: Precision and F-score are ill-defined and being set to 0.0 in labels with no predicted samples. Use `zero_division` parameter to control this behavior.\n",
      "  _warn_prf(average, modifier, msg_start, len(result))\n",
      "/opt/anaconda3/lib/python3.8/site-packages/sklearn/metrics/_classification.py:1245: UndefinedMetricWarning: Precision and F-score are ill-defined and being set to 0.0 in labels with no predicted samples. Use `zero_division` parameter to control this behavior.\n",
      "  _warn_prf(average, modifier, msg_start, len(result))\n"
     ]
    }
   ],
   "source": [
    "perform(x_train, x_test, y_train, y_test, svm.SVC(kernel='linear',C=0.01), False, False)"
   ]
  },
  {
   "cell_type": "code",
   "execution_count": 226,
   "id": "ec5dc7e4",
   "metadata": {},
   "outputs": [
    {
     "name": "stdout",
     "output_type": "stream",
     "text": [
      "end :  0.43230700492858887\n",
      "matrix :  [[  0  13]\n",
      " [  0 587]]\n",
      "accuracy score :  0.9783333333333334\n",
      "classification report :                precision    recall  f1-score   support\n",
      "\n",
      "           0       0.00      0.00      0.00        13\n",
      "           1       0.98      1.00      0.99       587\n",
      "\n",
      "    accuracy                           0.98       600\n",
      "   macro avg       0.49      0.50      0.49       600\n",
      "weighted avg       0.96      0.98      0.97       600\n",
      "\n"
     ]
    },
    {
     "name": "stderr",
     "output_type": "stream",
     "text": [
      "/opt/anaconda3/lib/python3.8/site-packages/sklearn/metrics/_classification.py:1245: UndefinedMetricWarning: Precision and F-score are ill-defined and being set to 0.0 in labels with no predicted samples. Use `zero_division` parameter to control this behavior.\n",
      "  _warn_prf(average, modifier, msg_start, len(result))\n",
      "/opt/anaconda3/lib/python3.8/site-packages/sklearn/metrics/_classification.py:1245: UndefinedMetricWarning: Precision and F-score are ill-defined and being set to 0.0 in labels with no predicted samples. Use `zero_division` parameter to control this behavior.\n",
      "  _warn_prf(average, modifier, msg_start, len(result))\n",
      "/opt/anaconda3/lib/python3.8/site-packages/sklearn/metrics/_classification.py:1245: UndefinedMetricWarning: Precision and F-score are ill-defined and being set to 0.0 in labels with no predicted samples. Use `zero_division` parameter to control this behavior.\n",
      "  _warn_prf(average, modifier, msg_start, len(result))\n"
     ]
    }
   ],
   "source": [
    "perform(x_train, x_test, y_train, y_test, svm.SVC(kernel='poly',C=1, degree=2), False, False)"
   ]
  },
  {
   "cell_type": "code",
   "execution_count": 227,
   "id": "0f59fbdd",
   "metadata": {},
   "outputs": [
    {
     "name": "stdout",
     "output_type": "stream",
     "text": [
      "end :  0.1135401725769043\n",
      "matrix :  [[  0  13]\n",
      " [  0 587]]\n",
      "accuracy score :  0.9783333333333334\n",
      "classification report :                precision    recall  f1-score   support\n",
      "\n",
      "           0       0.00      0.00      0.00        13\n",
      "           1       0.98      1.00      0.99       587\n",
      "\n",
      "    accuracy                           0.98       600\n",
      "   macro avg       0.49      0.50      0.49       600\n",
      "weighted avg       0.96      0.98      0.97       600\n",
      "\n"
     ]
    },
    {
     "name": "stderr",
     "output_type": "stream",
     "text": [
      "/opt/anaconda3/lib/python3.8/site-packages/sklearn/metrics/_classification.py:1245: UndefinedMetricWarning: Precision and F-score are ill-defined and being set to 0.0 in labels with no predicted samples. Use `zero_division` parameter to control this behavior.\n",
      "  _warn_prf(average, modifier, msg_start, len(result))\n",
      "/opt/anaconda3/lib/python3.8/site-packages/sklearn/metrics/_classification.py:1245: UndefinedMetricWarning: Precision and F-score are ill-defined and being set to 0.0 in labels with no predicted samples. Use `zero_division` parameter to control this behavior.\n",
      "  _warn_prf(average, modifier, msg_start, len(result))\n",
      "/opt/anaconda3/lib/python3.8/site-packages/sklearn/metrics/_classification.py:1245: UndefinedMetricWarning: Precision and F-score are ill-defined and being set to 0.0 in labels with no predicted samples. Use `zero_division` parameter to control this behavior.\n",
      "  _warn_prf(average, modifier, msg_start, len(result))\n"
     ]
    }
   ],
   "source": [
    "perform(x_train, x_test, y_train, y_test, svm.SVC(kernel='sigmoid',C=0.01),False,False)"
   ]
  },
  {
   "cell_type": "code",
   "execution_count": 228,
   "id": "d8983fc1",
   "metadata": {},
   "outputs": [
    {
     "name": "stdout",
     "output_type": "stream",
     "text": [
      "end :  0.0441899299621582\n",
      "matrix :  [[  0  13]\n",
      " [  0 587]]\n",
      "accuracy score :  0.9783333333333334\n",
      "classification report :                precision    recall  f1-score   support\n",
      "\n",
      "           0       0.00      0.00      0.00        13\n",
      "           1       0.98      1.00      0.99       587\n",
      "\n",
      "    accuracy                           0.98       600\n",
      "   macro avg       0.49      0.50      0.49       600\n",
      "weighted avg       0.96      0.98      0.97       600\n",
      "\n"
     ]
    },
    {
     "name": "stderr",
     "output_type": "stream",
     "text": [
      "/opt/anaconda3/lib/python3.8/site-packages/sklearn/metrics/_classification.py:1245: UndefinedMetricWarning: Precision and F-score are ill-defined and being set to 0.0 in labels with no predicted samples. Use `zero_division` parameter to control this behavior.\n",
      "  _warn_prf(average, modifier, msg_start, len(result))\n",
      "/opt/anaconda3/lib/python3.8/site-packages/sklearn/metrics/_classification.py:1245: UndefinedMetricWarning: Precision and F-score are ill-defined and being set to 0.0 in labels with no predicted samples. Use `zero_division` parameter to control this behavior.\n",
      "  _warn_prf(average, modifier, msg_start, len(result))\n",
      "/opt/anaconda3/lib/python3.8/site-packages/sklearn/metrics/_classification.py:1245: UndefinedMetricWarning: Precision and F-score are ill-defined and being set to 0.0 in labels with no predicted samples. Use `zero_division` parameter to control this behavior.\n",
      "  _warn_prf(average, modifier, msg_start, len(result))\n"
     ]
    }
   ],
   "source": [
    "perform(x_train, x_test, y_train, y_test, LogisticRegression(max_iter=1000, penalty='l2',C=1),False,False)"
   ]
  },
  {
   "cell_type": "code",
   "execution_count": 229,
   "id": "ecba2b07",
   "metadata": {},
   "outputs": [
    {
     "name": "stdout",
     "output_type": "stream",
     "text": [
      "end :  0.19405889511108398\n",
      "matrix :  [[  1  12]\n",
      " [  0 587]]\n",
      "accuracy score :  0.98\n",
      "classification report :                precision    recall  f1-score   support\n",
      "\n",
      "           0       1.00      0.08      0.14        13\n",
      "           1       0.98      1.00      0.99       587\n",
      "\n",
      "    accuracy                           0.98       600\n",
      "   macro avg       0.99      0.54      0.57       600\n",
      "weighted avg       0.98      0.98      0.97       600\n",
      "\n",
      "training set : ' 1.0\n",
      "test set : ' 0.9446992530467828\n"
     ]
    }
   ],
   "source": [
    "perform(x_train, x_test, y_train, y_test, LogisticRegression(max_iter=1000, penalty='l2',C=20),True,False)"
   ]
  },
  {
   "cell_type": "code",
   "execution_count": 230,
   "id": "43c6fd7c",
   "metadata": {},
   "outputs": [
    {
     "name": "stdout",
     "output_type": "stream",
     "text": [
      "end :  0.06485986709594727\n",
      "matrix :  [[  0  13]\n",
      " [  0 587]]\n",
      "accuracy score :  0.9783333333333334\n",
      "classification report :                precision    recall  f1-score   support\n",
      "\n",
      "           0       0.00      0.00      0.00        13\n",
      "           1       0.98      1.00      0.99       587\n",
      "\n",
      "    accuracy                           0.98       600\n",
      "   macro avg       0.49      0.50      0.49       600\n",
      "weighted avg       0.96      0.98      0.97       600\n",
      "\n",
      "training set : ' 0.9999754291704888\n",
      "test set : ' 0.9492858078888744\n"
     ]
    },
    {
     "name": "stderr",
     "output_type": "stream",
     "text": [
      "/opt/anaconda3/lib/python3.8/site-packages/sklearn/metrics/_classification.py:1245: UndefinedMetricWarning: Precision and F-score are ill-defined and being set to 0.0 in labels with no predicted samples. Use `zero_division` parameter to control this behavior.\n",
      "  _warn_prf(average, modifier, msg_start, len(result))\n",
      "/opt/anaconda3/lib/python3.8/site-packages/sklearn/metrics/_classification.py:1245: UndefinedMetricWarning: Precision and F-score are ill-defined and being set to 0.0 in labels with no predicted samples. Use `zero_division` parameter to control this behavior.\n",
      "  _warn_prf(average, modifier, msg_start, len(result))\n",
      "/opt/anaconda3/lib/python3.8/site-packages/sklearn/metrics/_classification.py:1245: UndefinedMetricWarning: Precision and F-score are ill-defined and being set to 0.0 in labels with no predicted samples. Use `zero_division` parameter to control this behavior.\n",
      "  _warn_prf(average, modifier, msg_start, len(result))\n"
     ]
    }
   ],
   "source": [
    "perform(x_train, x_test, y_train, y_test, LogisticRegression(max_iter=1000, penalty='l2',C=10),True,False)"
   ]
  },
  {
   "cell_type": "code",
   "execution_count": 231,
   "id": "a84aaa39",
   "metadata": {},
   "outputs": [
    {
     "name": "stdout",
     "output_type": "stream",
     "text": [
      "end :  0.011520147323608398\n",
      "matrix :  [[  1  12]\n",
      " [  1 586]]\n",
      "accuracy score :  0.9783333333333334\n",
      "classification report :                precision    recall  f1-score   support\n",
      "\n",
      "           0       0.50      0.08      0.13        13\n",
      "           1       0.98      1.00      0.99       587\n",
      "\n",
      "    accuracy                           0.98       600\n",
      "   macro avg       0.74      0.54      0.56       600\n",
      "weighted avg       0.97      0.98      0.97       600\n",
      "\n",
      "training set : ' 0.9089446009697287\n",
      "test set : ' 0.9169178351461145\n"
     ]
    }
   ],
   "source": [
    "perform(x_train, x_test, y_train, y_test, LogisticRegression(max_iter=1000, penalty='l1',C=1,solver='liblinear'),True,False)"
   ]
  },
  {
   "cell_type": "code",
   "execution_count": 232,
   "id": "0dc63420",
   "metadata": {},
   "outputs": [
    {
     "name": "stdout",
     "output_type": "stream",
     "text": [
      "end :  0.15997314453125\n",
      "matrix :  [[  1  12]\n",
      " [  1 586]]\n",
      "accuracy score :  0.9783333333333334\n",
      "classification report :                precision    recall  f1-score   support\n",
      "\n",
      "           0       0.50      0.08      0.13        13\n",
      "           1       0.98      1.00      0.99       587\n",
      "\n",
      "    accuracy                           0.98       600\n",
      "   macro avg       0.74      0.54      0.56       600\n",
      "weighted avg       0.97      0.98      0.97       600\n",
      "\n",
      "training set : ' 0.9092066898178482\n",
      "test set : ' 0.9175730572664134\n"
     ]
    }
   ],
   "source": [
    "perform(x_train, x_test, y_train, y_test, LogisticRegression(max_iter=1000, penalty='l1',C=1,solver='saga'),True,False)"
   ]
  },
  {
   "cell_type": "code",
   "execution_count": 234,
   "id": "eb54c901",
   "metadata": {},
   "outputs": [
    {
     "name": "stdout",
     "output_type": "stream",
     "text": [
      "end :  0.016823768615722656\n",
      "matrix :  [[  2  11]\n",
      " [  3 584]]\n",
      "accuracy score :  0.9766666666666667\n",
      "classification report :                precision    recall  f1-score   support\n",
      "\n",
      "           0       0.40      0.15      0.22        13\n",
      "           1       0.98      0.99      0.99       587\n",
      "\n",
      "    accuracy                           0.98       600\n",
      "   macro avg       0.69      0.57      0.61       600\n",
      "weighted avg       0.97      0.98      0.97       600\n",
      "\n",
      "training set : ' 0.9999918097234962\n",
      "test set : ' 0.8845498624033548\n"
     ]
    }
   ],
   "source": [
    "perform(x_train, x_test, y_train, y_test, LogisticRegression(max_iter=1000, penalty='l1',C=10,solver='liblinear'),True,False)"
   ]
  },
  {
   "cell_type": "code",
   "execution_count": 235,
   "id": "61a26618",
   "metadata": {},
   "outputs": [
    {
     "name": "stdout",
     "output_type": "stream",
     "text": [
      "end :  0.022295713424682617\n",
      "matrix :  [[  3  10]\n",
      " [  3 584]]\n",
      "accuracy score :  0.9783333333333334\n",
      "classification report :                precision    recall  f1-score   support\n",
      "\n",
      "           0       0.50      0.23      0.32        13\n",
      "           1       0.98      0.99      0.99       587\n",
      "\n",
      "    accuracy                           0.98       600\n",
      "   macro avg       0.74      0.61      0.65       600\n",
      "weighted avg       0.97      0.98      0.97       600\n",
      "\n",
      "training set : ' 1.0\n",
      "test set : ' 0.8681693093958852\n"
     ]
    }
   ],
   "source": [
    "perform(x_train, x_test, y_train, y_test, LogisticRegression(max_iter=1000, penalty='l1',C=50,solver='liblinear'),True,False)"
   ]
  },
  {
   "cell_type": "code",
   "execution_count": 236,
   "id": "cbecf7db",
   "metadata": {},
   "outputs": [
    {
     "name": "stdout",
     "output_type": "stream",
     "text": [
      "end :  0.04215598106384277\n",
      "matrix :  [[  0  13]\n",
      " [  0 587]]\n",
      "accuracy score :  0.9783333333333334\n",
      "classification report :                precision    recall  f1-score   support\n",
      "\n",
      "           0       0.00      0.00      0.00        13\n",
      "           1       0.98      1.00      0.99       587\n",
      "\n",
      "    accuracy                           0.98       600\n",
      "   macro avg       0.49      0.50      0.49       600\n",
      "weighted avg       0.96      0.98      0.97       600\n",
      "\n",
      "training set : ' 0.9932594024374264\n",
      "test set : ' 0.949416852312934\n"
     ]
    },
    {
     "name": "stderr",
     "output_type": "stream",
     "text": [
      "/opt/anaconda3/lib/python3.8/site-packages/sklearn/metrics/_classification.py:1245: UndefinedMetricWarning: Precision and F-score are ill-defined and being set to 0.0 in labels with no predicted samples. Use `zero_division` parameter to control this behavior.\n",
      "  _warn_prf(average, modifier, msg_start, len(result))\n",
      "/opt/anaconda3/lib/python3.8/site-packages/sklearn/metrics/_classification.py:1245: UndefinedMetricWarning: Precision and F-score are ill-defined and being set to 0.0 in labels with no predicted samples. Use `zero_division` parameter to control this behavior.\n",
      "  _warn_prf(average, modifier, msg_start, len(result))\n",
      "/opt/anaconda3/lib/python3.8/site-packages/sklearn/metrics/_classification.py:1245: UndefinedMetricWarning: Precision and F-score are ill-defined and being set to 0.0 in labels with no predicted samples. Use `zero_division` parameter to control this behavior.\n",
      "  _warn_prf(average, modifier, msg_start, len(result))\n"
     ]
    }
   ],
   "source": [
    "perform(x_train, x_test, y_train, y_test, LogisticRegression(max_iter=10000),True,False)"
   ]
  },
  {
   "cell_type": "code",
   "execution_count": 237,
   "id": "ab201f4c",
   "metadata": {},
   "outputs": [
    {
     "name": "stdout",
     "output_type": "stream",
     "text": [
      "end :  0.0641319751739502\n",
      "matrix :  [[  0  13]\n",
      " [  0 587]]\n",
      "accuracy score :  0.9783333333333334\n",
      "classification report :                precision    recall  f1-score   support\n",
      "\n",
      "           0       0.00      0.00      0.00        13\n",
      "           1       0.98      1.00      0.99       587\n",
      "\n",
      "    accuracy                           0.98       600\n",
      "   macro avg       0.49      0.50      0.49       600\n",
      "weighted avg       0.96      0.98      0.97       600\n",
      "\n",
      "training set : ' 0.9999754291704888\n",
      "test set : ' 0.9492858078888744\n"
     ]
    },
    {
     "name": "stderr",
     "output_type": "stream",
     "text": [
      "/opt/anaconda3/lib/python3.8/site-packages/sklearn/metrics/_classification.py:1245: UndefinedMetricWarning: Precision and F-score are ill-defined and being set to 0.0 in labels with no predicted samples. Use `zero_division` parameter to control this behavior.\n",
      "  _warn_prf(average, modifier, msg_start, len(result))\n",
      "/opt/anaconda3/lib/python3.8/site-packages/sklearn/metrics/_classification.py:1245: UndefinedMetricWarning: Precision and F-score are ill-defined and being set to 0.0 in labels with no predicted samples. Use `zero_division` parameter to control this behavior.\n",
      "  _warn_prf(average, modifier, msg_start, len(result))\n",
      "/opt/anaconda3/lib/python3.8/site-packages/sklearn/metrics/_classification.py:1245: UndefinedMetricWarning: Precision and F-score are ill-defined and being set to 0.0 in labels with no predicted samples. Use `zero_division` parameter to control this behavior.\n",
      "  _warn_prf(average, modifier, msg_start, len(result))\n"
     ]
    }
   ],
   "source": [
    "perform(x_train, x_test, y_train, y_test, LogisticRegression(max_iter=10000,C=10),True,False)"
   ]
  },
  {
   "cell_type": "code",
   "execution_count": null,
   "id": "f0a2ebb1",
   "metadata": {},
   "outputs": [],
   "source": []
  }
 ],
 "metadata": {
  "kernelspec": {
   "display_name": "Python 3",
   "language": "python",
   "name": "python3"
  },
  "language_info": {
   "codemirror_mode": {
    "name": "ipython",
    "version": 3
   },
   "file_extension": ".py",
   "mimetype": "text/x-python",
   "name": "python",
   "nbconvert_exporter": "python",
   "pygments_lexer": "ipython3",
   "version": "3.8.8"
  }
 },
 "nbformat": 4,
 "nbformat_minor": 5
}
